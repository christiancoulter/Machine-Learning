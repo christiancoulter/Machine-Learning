# ASSIGNMENT - 1 [FULL MARKS: 230]

**LEARNING TO CODE IN PYTHON**

This Jupyter notbook includes several notes, documentation and examples followed by coding challenges. This assignment will cover the following aspects in Python programming. Readers are suggested to visit and study the documentation from links below. Python documentation has many examples, you can run these examples in your own version of notebook.

1.   DATA STRUCTURES | [DOCS](https://docs.python.org/3.6/tutorial/datastructures.html)
2.   CONTROL FLOW TOOLS | [DOCS](https://docs.python.org/3.6/tutorial/controlflow.html)
3.   INPUT / OUTPUT | [DOCS](https://docs.python.org/3.6/tutorial/inputoutput.html) [FILE HANDLING WON'T BE COVERED]
4.   CLASSES | [DOCS](https://docs.python.org/3.6/tutorial/classes.html) [WILL NOT BE COVERED]
5.   ERRORS AND EXCEPTIONS | [DOCS](https://docs.python.org/3.6/tutorial/errors.html) 
6.   FUNCTIONAL PROGRAMMING | [DOCS](https://docs.python.org/3.6/howto/functional.html)
7.   PANDAS | [DOCS](https://pandas.pydata.org/pandas-docs/stable/user_guide/index.html)
8.   NUMPY | [DOCS](https://numpy.org/devdocs/user/quickstart.html)
9.   VISUALIZATION | [DOCS](https://altair-viz.github.io/gallery/index.html)


**NOTE**
```Please start working on this assignment as soon as possible. If you are a beginner in Python this might take a long time. The objective of this assignment is to help you learn python.```
---





# HOW TO DO THE ASSIGNMENT?

```
>> You are given a view only link of this google colab file.
>> Open the link in google chrome.
>> Make sure you are logged in with your google account.
>> Go to File and select option 'Save a copy on in Drive'
>> Open the saved copy from Drive and rename it by adding your netid. 'CS4347-Assighnment1-NetId.ipynb
>> Now start working on assignment
>> If you have any questions, please visit TA's office hours
```

# HOW TO SUBMIT THE ASSIGNMENT?

```
>> Before you submit make sure you have the final version of your work.
>> If you try to edit your assignment after submission your assignment will be void.
>> You can create multiple copies of your assignment if you will, but never edit the copy which you have submitted.

**Important**
>> You have to submit both the downloaded notebook(*.ipynb) file and a link to that notebook in CANVAS
>> To download a notebook go to File-> Download .ipynb
>> To share the link, go to share on the top right corner.
>> Click 'Get sharable link'.
>> Change sharing option to 'Anyone with this link can comment'
>> Copy the link and submit the link in CANVAS
>> Make sure the link is not broken by opening it in 'incognito mode in a browser'
>> Once again, after you have submitted both notebook file and link, do not change the notebook file. 
>> If submitted version of notebook doesn't match with the version in a given link, your assignment will be void.
```

## DATA STRUCTURES

### List

# List as it's name implies is a list data type. 
# A list can contain similar or mixed types (including another list) of data. 
# A list is implemented in different ways. 
# We will see that in detail in the following example.


#Initialization of a list
myfirstlist = list() #first way
myfirstlist = [] #second way



```
In jupyter notebook environment, commands starting with the symbol % are magic commands or magic functions

%%timeit is one of such function. It basically gives you the speed of execution 

of certain statement or blocks of codes. So lets do following two experiment.
```



%%timeit
myfirstlist = list()

%%timeit 
myfirstlist = []

**Question no.  1: Based on above experiment which one is the fastest? [5 points]**

  Select your answer from the drop-down and run the cell below

fastest = "Select one of the following" #@param ["Select one of the following", "myfirstlist = []", "myfirstlist = list()"]


# range() is one of the inbuilt functions in python. 
# It is super handy to create a list of numbers that ranges from one value to another value.
# We can create a list of range of values in both ascending and descending order.

# Jupyter notebook has a quick way to review the documentation. 
# You have to add '?' before or after the function and run the cell.
# The following both are valid:

# ?range
# range?
# Run the following cell to see the documentation of range
?range

# So now you should know that range takes 3 arguments, (start, end, step)
# But you must be careful that if you provide only one value eg. range(5), 
# your default start is 0
# lets create few lists with the help of range()

list1 = list(range(5)) #Numbers from 0 t o 5 (but not 5, note end is exclusive)
list2 = list(range(5, 10)) #Numbers from 5 to 10 (exclusive end)
list3 = list(range(0, 20, 2)) # Even numbers from 0 to 20 (end is exclusive)

print(list1)
print(list2)
print(list3)

**Question no.  2: Based on what you have learned from above write code for following. [2.5 x 4 = 10 points]**

  Complete the code (Replace the question marks '?' with the right values.)

# even440 is a list of even numbers from 4 to 40 
# being inclusive (must include 40 if 40 is even)
even440 = list(range(?,?,?))
print('even440 : ', even440)

# odd540 is a list of odd numbers from 5 to 40
# being inclusive (must include 40 if 40 is odd)

odd540 = list(range(?,?,?))
print('odd540 : ', odd540)# 1.1 DATA STRUCTURE

# Complete the code a list of multiples of 5 from 25 to 100 
# being inclusive (must include 100 if 100 is a multiple of 5) 
mof5 = list(range(?,?,?))
print('mof5 : ', mof5)

# list from 10 to 0 (must include 10 but not 0)
from10to0 = list(range(?,?,?))
print('from10to0 : ', from10to0)

# List has many methods implemented, 
# and there are inbuilt functions (sorted, max, min ...) you can call on a list.
# In following example we create a random list using the 'random' module
# The method we used here for list construction is called list comprehension

import random
random.seed(4347) #Do not change this seed

x = [random.randint(0,100) for i in range(5)]
print(f'x : {x}') # Note here we use f string, this was introduce in python 3.6x and it is very easier to work with

sortedx = sorted(x)
print(f'sortedx : {sortedx}')

sumofx = sum(x)
print(f'sumofx : {sumofx}')

maxofx = max(x)
print(f'maxofx : {maxofx}')

minofx = min(x)
print(f'minofx : {minofx}')

lenofx = len(x)
print(f'length of x is : {lenofx}')

revofx = list(reversed(x))
print(f'reversed of x is : {revofx}')

# now we have our list x
# to discover methods implemented in the list you can use autocompletion.
# If you type x. in a cell and wait you see a list of available methods.
# if nothing appears press ctrl+space.
# We recommend that you play with few methods, if possible all methods.
# Try to see how each of them works by reading the documentation.
# You now know the trick to open documentation using '?'
x

# following is a code that will print all the methods that are implemented for List
print(dir(list)) # ignore the detail here

# for now ignore methods that starts with '__', they are called dunder methods (or magic methods)
# and they are special methods we use in a class, they are also refered to as data models.
print([*filter(lambda x:not x.startswith('__'),dir(list))]) # ignore the detail here

**Question no.  3: Based on what you have learned from above. Experiment following two functions and explain the difference. Finally create a random list 'x' of size 25? [5 x 2 = 10 points]**

sort() and sorted()

# Code goes here for comparing sort() and sorted()
# Note you can add multiple code cell if you want



'''
Explanation goes here
--------------------------




'''

#Code goes here for creating a random list of size 25
x = ?

# One of the important things to learn is about indexing of the list.
# list index starts from 0, say you write x[0] 
# it means you are refering to first item of list and x[-1] means 
# you are indexing last item of the list.
# But there are more way you can index a list, e.g. in following way
# x[start:end:step].
# Now you are capable of creating a random list, study following examples 
# and try to answer question no 4 
print(f'x : {x}')
print(f'x from 2 to 5 : {x[2:5]}')
print(f'x from 2 to 25 with step 3 : {x[2:25:3]}')
print(f'last member of x : {x[-1]}')

**Question no.  4: Based on what you have learned from above experiment answer following question, and run the cell? [5 x 3 = 15]**

  

# Select the correct answer and run following cell

isInclusive = "List index start and end values are inclusive" #@param ["List index start and end values are inclusive", "List index start and end are non-inclusive", "Start is inclusive end is not", "End is inclusive start is not"] {allow-input: true}



# Without using the reversed() function, reverse 'x' with the help of indexing
# Code goes here



# Imagine 'listoflist' is a list containing many lists
# What may listoflist[3][8] refer to?
'''
Explanation Goes here



'''
print()#leave this print as it is

### Tuple

# Tuple is an immutable data structure in python, similar to the list.
# Please do research in the mutable and immutable nature of data structures in python.
# Immutability offers performance advantages over mutable data structures.
# Once a tuple is assigned with some values it is fixed.
# A tuple can be initialized in following ways.
# We don't have any exercise on tuples, please do some research to learn more.
x = tuple()
x = ()

### Set

# Set is a mutable data structure
# Set corresponds to set as in math
# A list allows repeated elements but set does not
# Set has methods built in for set operations like
# Intersection, Union, Set Difference and others
# A list can be converted into set by calling set(x)
# Initializing set
import random
from random import randrange #import this to create a random list
random.seed()

x = set()

randlist = [randrange(0,10) for i in range(20)]
print(f'randlist : {randlist}')

setfromrandlist = set(randlist)
print(f'setfromrandlist : {setfromrandlist}')

# Fundamental Set operations
a = set([randrange(0,50) for i in range(20)])
b = set([randrange(0,50) for i in range(20)])

print(f'a : {a}')
print(f'b : {b}')

union = a.union(b)
intersection = a.intersection(b)
difference = a.difference(b)

print(f'union : {union}')
print(f'intersection : {intersection}')
print(f'difference : {difference}')

# Let us recall a math Problem called as LCM (Lowest Common Multiple)
# Lowest common multiple of numbers is the minimum of the intersection of their multiples
# For example for 3 and 2
# multipleof3 = {3,6,9,12,15,...}
# multipleof2 = {2,4,6,8,10,12,...}
# commonmultiple = {6, 12, ...}
# LCM is minimum of commonmultiple that is 6
# Now using the knowledge of set and list answer following LCM problem

**Question no.  5: Find the LCM of 8, 9 and 12 (use the set and list concepts). [10 points]**

  

# Your code goes here



### Dictionary

# Dictionary is an interesting data structure
# It holds key value pairs
# Values can be accessed by using keys
# Lets see few of the ways to create a dictionary

a = {'a':1, 'b':2, 'c':3, 'd':4}
print(f'a : {a}')

b = dict(zip(['a','b','c','d'], [1,2,3,4]))
print(f'b : {b}')

c = dict(iter([('a',1),('b',2),('c',3),('d',4)]))
print(f'c : {c}')

d = dict(a=1, b=2, c=3, d=4)
print(f'd : {d}')

# Accessing values using keys in dictionary
print(d['a'])#getting values corresponding to key a

# Study the following code closely 
# Here is a function that returns a value 
# given a key and a dictionary as arguments
# For now you don't have to know the details of 
# how to define a function

# A very simple function
def getfrom(dictionary, keys):
  values = dictionary[keys]
  return values

# Now lets use this function to get values corresponding to key 'a'
# from dictionary 'd'

values = getfrom(dictionary=d, keys='a')
print(f'values correspoding to a is {values}')

# Now lets try to access 'z' which is not in 'd'

values = getfrom(dictionary=d, keys = 'z')
print(f'values correspoding to z is {values}')

# So now you see we have an error, called a key error
# Like list dictionary has different methods implemented 
# like 'clear', 'copy', 'fromkeys', .... and so on
# You now know how to use these methods
# you can use one of these two methods to accomplish following task

**Question no.  6: Complete the function, so that if you don't have a key return 999. [10 points]**

  

# Code goes here

def getfrom(dictionary, keys):
  values = ? #complete your code here
  return values #should return 999 if key doesn't exist

print(getfrom(dictionary=d, keys='z'))

**Question no.  7: Complete the function, so that if you don't have a key return 999 and add 999 to dictionary? [10 points]**

  

# Code goes here

def getfrom(dictionary, keys):
  values = ? #complete your code here
  return values #should return 999 if key doesn't exist and should add to dictionary as well

print(getfrom(dictionary=d, keys='z'))

# Now this shouldn't throw error as 'z' is now set to dictionary
print(d['z'])

## CONTROL FLOWS

### If - else statement
  

# In this section we want to use the conditional statement if - else
# You can use if - else or if-elif-elif-else statement depeneding upon the number of choices
# Example, Note that input will prompt a input box where you have to enter a number and hit enter or return

x = int(input('Enter A Number : ')) #Cast to integer

if x>0:
  print(f'{x} is positive')
elif x<0:
  print(f'{x} is negative')
else:
  print(f'{x} is neither negative nor positive')

**Question no.  8: Based on what you have learned from above, please write following code as instructed. [10 points]**

  

# Set a goal_number variable to some random number
# import randint function from random module and use it
from random import randint
goal_number = randint(1,101)
x = int(input('Guess your random number : '))

assert x in range(1, 101), 'YOUR INPUT MUST BE BETWEEN 1 AND 100 INCLUSIVE'

# Now complete the following code

# If user input is greater than goal_number prompt 'Guess is higher!'
# If user input is smaller than goal_number prompt 'Guess is lower!'
# If user input is equal to the goal_number prompt 'Congratulations you guessed it right!'

# Your code goes below

if ??:
  print(??)
elif ??:
  print(??)
else:
  print(??)

### while loop
  

# Following is a random math expression generator
# Just study this code and don't worry about it 
# We just need it for some math game we are going to make
from time import time
import random
random.seed()

# Generate random symbol
def symbol():
  return random.choice(['+', '-', '*'])

def symbol_():
  return random.choice(['','-'])

# Generate random number from 0 to 10
def num():
  return random.randint(0,10)

rand_exp = f'{symbol_()} {num()} {symbol()} {num()} {symbol()} {num()} {symbol()} {num()}'
print(f'rand_exp : {rand_exp}') 
print(f'solution : {rand_exp} = {eval(rand_exp)}') #We can Evaluate this statement

# Now with the help of above we will design a math-machine-game.
# Basically you have to keep calculating the value of a mathematical expression correctly.
# For every question you are give ten seconds.
# The more questions you answer correctly and the faster, the higher your score. 
# Your total score is the total time you saved out of each ten-second window.
# If you answer a qustion wrong game will end.
# If time is runs out the game will end.
# This is basically a tutorial to make a very simple game.
# You will be using this same idea to make a game that includes guessing a number

def math_machine_game():
  score = 0
  total_time = 10

  while(True):
    rand_exp = f'{symbol_()} {num()} {symbol()} {num()} {symbol()} {num()} {symbol()} {num()}'
    real_value = eval(rand_exp)
    timenow = time() #getting current time

    value = int(input(f'{rand_exp} = '))
    time_elapsed = int(time() - timenow) #just need this to calculate how many secods passed
    intime = time_elapsed < total_time #is this on time??
    print(f'time elapsed = {time_elapsed}')
    print(f'-'*10)
    if intime:
      print(f'Great On Time')
      if real_value == value:
        score += int(total_time - time_elapsed)
        print(f'Good one you got this right')
        print(f'Your score is {score}')
        print(f'-'*10)
        continue # What does continue does here?
      else:
        print(f'Sorry the correct answer is {real_value}')
        print(f'-'*10)
        break # What does break does here?
    else:
      print(f'Sorry time expired')
      print(f'-'*10)
      break # What does break does here.

  print(f'Final Score is {score}')

math_machine_game()


**Question no.  9: In above code what is the use of 'continue' in line 32. What happens if we replace 'continue' with 'pass' statement? (Note if you don't see line numbers and indentation you can go to Tools->Settings->Editor->Show line Number and show indentation). [5 * 2  = 10 points]**

  

'''
Your answer goes here


'''
print()#Leave this print as it is


**Question no.  10: In above code what is the use of 'break' in line 36 and 40 (Note if you don't see line numbers and indentation you can go to Tools->Settings->Editor->Show line Number and show indentation). [5 points]**

  

'''
Your answer goes here


'''
print()#Leave this print as it is


**Question no.  11: Based on what you have learned from above, please complete following code as instructed. [15 points]**

  

# Please try to understand above code.
# Based on your understanding of the above code, 
# you will be doing a fun exercise
# In this exercise you are supposed to make a simple game
# Following are the rules:
# You will run a while loop utill the game is finished
# You will create one random target number between 1 to 100 inclusively,
# Ask user to guess the number
# If the guess is high, the program says high, if it is low, it says low
# If match the game is finished
# You will count how many steps a user will require to finish
# Note : You will see a try-except block for Exception handling. 
# Research about this to learn more.

# Now complete the code
import random
random.seed()

attempts = ? #initialize the counter here
goal_number = ? #should be between 1 to 100 inclusiveley, don't print this, it is cheating
while(True):
  # We don't wan't to abort our program flow 
  # So we want to catch some errors if happened and handle
  try:
    guess_num = int(input('Please Guess The Number : '))
    
    # We want to confirm user gave us number between 1 to 100
    assert guess_num in range(?,?)

  except:
    print(f'??') # Print Appropriate message here
  
  # Here remember if high, say high, if low, say low and increment the counter
  # Remember you are supposed to use the 'continue' statement whenever necessary
  # Google the use of continue statement and use it properly
  # Note you may have multiple lines of code inside each block if necessary
  if ?:
    ?
  elif ?:
    ?
  else:
    ?
  
  print(f'Wow you did it in {attempts} attempts')
  break


**Question no.  12: Study about for loop from documentation. And try to solve following question as instructed. [10 points]**

  

# Let us see one example called prime-finder
# A prime number is a number that is divisible by itself or 1 only
x = int(input('Enter a number to check for prime : '))

# Following is an algorithm to find if a number is prime
# Algorithm
'''
1.  Begin
2.  Assign input to x
3.  For i=2...sqrt(x) inclusively
      check if x is divisible by i, if divisble 'break' loop and say no prime
4.  In 3 if loop never breaks x is a prime number, i.e, if i>=sqrt(x) it is a prime number, Print x as prime number
'''

# We will code above using for loop but code is incomplete code
# Complete the code, you can use math.sqrt() to calculate square number
# Note that range won't take floating value you have to convert it to int, and remember inclusiveness
import math
isPrime = True
for i in range(?,?):
  if ?:
    ? 
if ?:
  ?

**Question no.  13: Study given examples of function. Complete given code as instructed. (Note: We will not discuss functions in detail here. Please read the documentation for that) [10 points]**

  

# So far we introduced couple of functions above 
# Please refer to function examples in documentations
# https://docs.python.org/3.6/tutorial/controlflow.html#defining-functions
# You don't have to go thoroughly just try to understand few basic examples

# Now write a function that takes a number as input and return true if it is prime else false

# Complete the following code

def is_prime(x):
  isPrime = True
  ??
  return isPrime

# This should print all the prime number from 2 to 100
for i in range(2, 100):
  if is_prime(i):
    print(f'{i} is a prime number')

## FUNCTIONAL PROGRAMMING

# In this section we will try to cover some of the powerful aspects of python programming
# In the end you will be asked to do some coding problem based on the content we provided

# First lets start with a [lambda operation]
# A lambda function is an anynymous function. It simply takes some input, processes it and returns it
# You can call it as a one line function as well

# Following is an example of a lambda function that takes a,b -> adds them and returns the sume
sumthem = lambda a,b:a+b
print(f'sumthem(2,3) = {sumthem(2,3)}')


squareit = lambda a:a**2
print(f'squareit(2) = {squareit(2)}')

# It is not advised to use lambda every time, there are specific uses of lambda operations
# To understand this lets discuss another powerful concept called as map

# Lets say we have a list x = [1,3,5,6,7]
# Lets say I wan't to square every element of x
# With for loop following is the solution

x = [1,3,5,6,7]
xsquare = []
for xi in x:
  xsquare.append(xi**2)
print(f'x = {x}')
print(f'xsquare = {xsquare}')

# Well there is a pythonic way to do this, lets use map

squarewithmap = map(lambda a:a**2, x)
print(f'squarewithmap = {squarewithmap}')

# But that will print map object, you need to convert this into list
# You can cast by list(mapobject)
squarewithmap = list(map(lambda a:a**2, x))
print(f'squarewithmap = {squarewithmap}')
# Or,
squarewithmap = [*map(lambda a:a**2, x)]
print(f'squarewithmap = {squarewithmap}')

# Another important thing is 'filter'
# Lets say we want to filter out odd numbers from x 
# We can do this by taking only even numbers 

filtered = [*filter(lambda x:x%2==0,x)]
print(f'filtered = {filtered}')

# There are many other functional aspects, we suggest you to visit the documentation to learn cool stuff
# I would love to add those, but already assignment is too long

**Question no.  14: In this section you are going to use some advance web-scrapping ideas. However you don't have to code anything for that. But you have to post-process the content you get from the internet. This processing includes mapping - filtering and mapping task. This exercise is followed by a given code snippet which rewards you for your hard work. [5 x 3 = 15 points]**

  

# I hope you will learn something new here
# If you feel anything confusing please do some research
# I am not going through all the details here
import urllib3
from bs4 import BeautifulSoup
import urllib3
import random

# Please do not feel confused with following 4 lines of code
# These codes just grab all the html content from website
# And we get all the image tag in a list called tags in line 11
http = urllib3.PoolManager()
r = http.request('GET', 'https://www.boredpanda.com/funniest-two-line-jokes/?utm_source=google&utm_medium=organic&utm_campaign=organic')
soup = BeautifulSoup(r.data)
tags=soup.findAll('img')

# Lets see how these tags look like, we are looking only 10 examples
random.sample(tags,10)

# lets grab first item of these tags and see its type
# You will find it is not a 'str' but something else
type(tags[0])

# Now you have to map these tags to string with the following lambda operation
tostr = lambda x:str(x)
tags = [*map(?)] # Complete this code

# After we mapped everything to string we still need to get specific tags
# Use following lambda operation to filter
getjokes = lambda x:'funniest-two-line-jokes' in x
tags = [*filter(?)]

# Now we need only the link to the joke not a full tag 
# use following map to map the tag into link
filterer = lambda x:x.partition('''src="''')[-1].partition('''"''')[0]

tags = [*map(?)]

# Now here is the fun part
# You don't have to do anything here
# If you got everything right
# You can run this cell as many times as you like
# and read wonderful jokes
# Disclaimer : These jokes are grabbed from internet, take it easy

from PIL import Image
import requests
from io import BytesIO
import random
random.seed()

response = requests.get(random.choice(tags))
Image.open(BytesIO(response.content))

# We have ommitted many important things about python
# The whole idea of this assignment is to make yourself familiar with python to some level
# Please refer to notes, internet, and official documentation for further knowledge
# You can visit during TA's office hours if you have any questions 

## PANDAS

# In this section we will try to introduce you one of the amazing libraries in python
# Pandas is a python library to deal with tabular data
# To learn more about pandas please visit the documentation, lecture notes or internet

# To work in pandas first we need tabular data
# Since we don't have data now, let's create some fake data
# Faker is a library that can help you make fake data
# Lets start by installing faker and pandas
!pip install Faker
!pip install pandas

# Lets use faker
from faker import Faker
import random
random.seed()
fake = Faker()

#  Lets create some random data of size 100

data = {'name' : [fake.name() for _ in range(100)],
        'company' : [fake.company() for _ in range(100)],
        'salary' : [random.randrange(50000,1000000,10000) for _ in range(100)],
        'address' : [fake.address() for _ in range(100)]}


# See our data
print(data)

# Well, now we can use panda dataframe to make this data more neat
import pandas as pd
df = pd.DataFrame(data = data, columns = data.keys())
df

# Interesting things about this data frame is we can see the summary of data
df.describe()

# So since salary is only a column with numeric values, we get only salary statistics
# You can access each column by following two ways
# Lets access salary
df.salary

# Similarly another way 
df['salary']

# For further more indexing of data frame please review panda documentation
# Now lets do some interesting stuff, lets create a column that has an information about if that person salary is above 500k
df['above500k'] = df.salary > 500000
# Now lets review our dataframe
df.head()

# Now lets say we wan't to do even more complicated stuff
# We wan't to add a status column that has following information
# If salary is between 0 to 500k we will write '0k-500k USD' else we will write '500k-1M USD' in 'status' column
# This can be done easily

df['status'] = df.salary.apply(lambda x:'0k-500k USD' if x in range(0,500000) else '500k-1M USD')

# Now lets see our data frame
df.head()

# Now Lets say we wan't to save our data frame in csv format
# We can do so by following steps
df.to_csv('fakedata.csv', index = None) #I am not preserving index here

# Lets see if we have saved the data frame 
ls

# Now we can read this data frame as well
newdf = pd.read_csv('fakedata.csv')
newdf.head()

# Well there are many more stuff to learn in panda data frame
# But for now you will be doing something similar above

# Following exercise will give you some advance concept in panda dataframe
# You will be asked few things to code at last

# First lets download the data set
!wget https://data.townofcary.org/api/v2/catalog/datasets/rdu-weather-history/exports/csv

# 'csv' is the name of our dataset
ls

df = pd.read_csv('csv', sep = ';')
# Lets see the size of our data
df.shape

df.head()

# Well this is a public data
# There might be many missing values
# Lets see these missing values
df.isna().sum()

# Well there are missing values, lets get rid of them
df = df.dropna()

#Lets check if there is any missing values
df.isna().sum()

# Lets see the shape again
# We lost few rows
df.shape

# Lets see columns of our data
df.columns

# One important thing to notice here is following columns 
'''
'fog', 'fogheavy', 'mist', 'rain', 'fogground', 'ice', 'glaze',
'drizzle', 'snow', 'freezingrain', 'smokehaze', 'thunder', 'highwind',
'hail', 'blowingsnow', 'dust', 'freezingfog'
'''
# These columns are weather information, it will be lot more easier to see these values in one single column called weather
# So we can do this by following code, observe closely what we are doing

tidydf = pd.melt(df,['date', 'temperaturemin', 'temperaturemax', 'precipitation', 'snowfall',
       'snowdepth', 'avgwindspeed', 'fastest2minwinddir',
       'fastest2minwindspeed', 'fastest5secwinddir', 'fastest5secwindspeed'],var_name="weather",value_name="status")

tidydf.head()

# Now we don't need rows that has status 'No' so we will only select rows with 'Yes' status
# Moreover, now we don't  need status column any more so lets drop that column as well
df = tidydf[tidydf.status == 'Yes']
df = df.drop(columns = ['status'])
df.head()

# Now lets describe this data

df.describe()

**Question no.  15: Now write code as instructed.[5 * 6 = 30 points]**

  

# Tast1 : Get rid of following columns
'''
'fastest2minwinddir','fastest2minwindspeed','fastest5secwinddir','fastest5secwindspeed'
'''

# Code goes below
df = 

# Print the head of the data



# Taks2 : Calculate and add 'avgtemperature' column
# Note : avgtemperature is an average of temperaturemin and temperaturemax

# Code goes below
df['avgtemperature'] = 


# Print the head of the data



# Task3 : Now get rid of following two columns
'''
'temperaturemin','temperaturemax'	
'''

# Code goes below
df = 

# Print the head of the data



# Task4 : Now calculate average of all the 'avgtemperature'
# Note you can calculate average like this : df['columname'].mean() or df.columname.mean()

# Code goes below
avgtemp = 



# Task5 : Add a new column called as 'avgtemperature_comaprision'
# Note: if 'avgtemperature' is less than 'avgtemp' fill with 'less than global average'
# if it is greater fill with 'more than global average'

# Code goes below
df['avgtemperature_comaprision'] = 


# Print head of your data



# Task6 : Now save the dataset without index, give a name 'weather.csv'
# Your code goes here



## Numpy

**Question no.  16: Study the given publicly available numpy exercises notebook file and complete the given code. (Note you don't have to go through all notebook, just focus on things you need).[2.5 * 8 = 20 Points]**

# Please refer to following amazing notebook
# https://github.com/rougier/numpy-100/blob/master/100_Numpy_exercises.ipynb
# This notebook will give you fundamental understanding of numpy
# Based on few examples on above notebook Do following

# Create two random numpy array of size 10,10
array1 = ?# now we have our list x
# to discover methods implemented there is a technique
# if you type x. in a cell and wait you see list of methods
# if you nothing appears press ctrl+space
# you are suggested to play with few methods, if possible all methods
# try to see how it works by reading documentation
# you now know the tricks to open documentation using '?'
x
array2 = ?

#Perform simple matrix addition
add12 = ?

# Perform matrix multiplication between these two numpy array
mm12 = ?

# Perform element wise multiplication between these two array
mmelement = ?

## Calculate mean, standard deviation and variance of mm12
mean = ?
std = ?
var = ?


## Visualization

# The following are popular and very useful visualization libraries
# Matplotlib : https://matplotlib.org/tutorials/index.html
# Seaborn : https://seaborn.pydata.org/examples/index.html
# Altair : https://altair-viz.github.io/gallery/index.html

# For this assignment we will follow the 'Altair' library
# Altair is declarative visualization library, meaning write less get amazing results
# You can see examples from the documentation
# For now we will use some code snippet to see how it works

# load an example dataset
from vega_datasets import data
cars = data.cars()
# Lets see the data type of cars dataset
print(type(cars))

# Lets see dataset
cars.head()

# SAMPLE NO. 1

# Now let us visualize this dataset

# plot the dataset, referencing dataframe column names
import altair as alt
alt.Chart(cars).mark_bar().encode(
  x='mean(Miles_per_Gallon)',
  y='Origin',
  color='Origin'
)

# SAMPLE NO. 2

# plot the dataset, referencing dataframe column names
import altair as alt
alt.Chart(cars).mark_bar().encode(
  x=alt.X('Miles_per_Gallon', bin=True),
  y='count()',
)

# SAMPLE NO. 3

import altair as alt

interval = alt.selection_interval()

alt.Chart(cars).mark_point().encode(
  x='Horsepower',
  y='Miles_per_Gallon',
  color=alt.condition(interval, 'Origin', alt.value('lightgray'))
).properties(
  selection=interval
)

# SAMPLE NO. 4

# plot the dataset, referencing dataframe column names
import altair as alt
alt.Chart(cars).mark_point().encode(
  x='Horsepower',
  y='Miles_per_Gallon',
  color='Origin'
).interactive()

# SAMPLE NO. 5

import altair as alt

interval = alt.selection_interval()

base = alt.Chart(cars).mark_point().encode(
  y='Miles_per_Gallon',
  color=alt.condition(interval, 'Origin', alt.value('lightgray'))
).properties(
  selection=interval
)

base.encode(x='Acceleration') | base.encode(x='Horsepower')

# SAMPLE NO. 6

import altair as alt

interval = alt.selection_interval()

points = alt.Chart(cars).mark_point().encode(
  x='Horsepower',
  y='Miles_per_Gallon',
  color=alt.condition(interval, 'Origin', alt.value('lightgray'))
).properties(
  selection=interval
)

histogram = alt.Chart(cars).mark_bar().encode(
  x='count()',
  y='Origin',
  color='Origin'
).transform_filter(interval)

points & histogram

# SAMPLE NO. 7

import altair as alt

points = alt.Chart(cars).mark_point().encode(
  x='Year:T',
  y='Miles_per_Gallon',
  color='Origin'
).properties(
  width=800
)

lines = alt.Chart(cars).mark_line().encode(
  x='Year:T',
  y='mean(Miles_per_Gallon)',
  color='Origin'
).properties(
  width=800
).interactive(bind_y=False)
              
points + lines

# SAMPLE NO. 8

# plot the dataset, referencing dataframe column names
import altair as alt
alt.Chart(cars).mark_bar().encode(
  x=alt.X('Miles_per_Gallon', bin=True),
  y='count()',
  color='Origin'
)

# Lets see another example
stocks = data.stocks()
stocks.head()

# SAMPLE NO. 9

# Lets visualize this stock data
import altair as alt
alt.Chart(stocks).mark_line().encode(
  x='date:T',
  y='price',
  color='symbol'
).interactive(bind_y=False)



```
# This is formatted as code
```

**Question no.  17: Based on what you have learned above, now read the 'weather.csv' dataset that you have saved previously. Use pandas to load this dataset. Now do the following visualizations as instructed. [5 * 7 = 35 points]**

  

# Task 1: Read weather data
# Your code goes below, read 'weather.csv'

weather = ?

# Print head of your data
weather.head()

# Like in SAMPLE NO. 1 
# Modify the code to plot the count of occurence of weather
# plot the dataset, referencing dataframe column names
import altair as alt
# Note .sample(5000) here, this is used because altair cannot handle data more than 5k 
# so we took random 5k sample from our data
alt.Chart(weather.sample(5000)).mark_bar().encode(
  x='count()',
  y=?,
  color=?'
)

# Like in SAMPLE NO. 2

# Modify the code to plot count of 'avgtemperature' showing what part is above or below global average temperature
# plot the dataset, referencing dataframe column names
import altair as alt
alt.Chart(weather.sample(5000)).mark_bar().encode(
  x=alt.X(?, bin=True),
  y='count()',
  color = ?
)

# As in SAMPLE NO. 5

# Plot interval plot with x in 'snowfall' and 'precipitation' vs y in 'avgtemperature' showing 'avgtemperature_comaprision' 
interval = alt.selection_interval()

base = alt.Chart(weather.sample(5000)).mark_point().encode(
  y=?,
  color=alt.condition(interval, ?, alt.value('lightgray'))
).properties(
  selection=interval
)

base.encode(x=?) | base.encode(x=?)

# As in SAMPLE NO. 9 plot date vs avgtemperature, also show avgtemperature_comparision

# Visualize weather data in time series

# Lets visualize this stock data
import altair as alt
alt.Chart(weather.sample(5000)).mark_line().encode(
  x=?,
  y=?,
  color=?
).interactive(bind_y=False)

# Like in SAMPLE NO. 4, plot chart between 'snowfall' and 'snowdepth' to see the correlation

# plot the dataset, referencing dataframe column names
import altair as alt
alt.Chart(weather.sample(5000)).mark_point().encode(
  x=?,
  y=?,
).interactive()

# Matplotlib tutorial is not included
# You can learn from following examples 

import numpy as np
import matplotlib.pyplot as plt

x = np.random.randn(1,100)
y1 = np.sin(x) * np.random.rand(1,100)
y2 = np.sin(x) * np.random.rand(1,100)

plt.scatter(x,y1, label = 'y1')
plt.scatter(x,y2, label = 'y2')
plt.xlabel('x')
plt.ylabel('y')
plt.title('random plot')
plt.legend()

# Using above example given values from weather data plot precipitation,snowfall and avgwindspeed against	avgtemperature
# Lets get small sample of data from our weather dataframe

sample = weather.sample(1000)
precipitation = sample.precipitation.values # follow this example to get other values
snowfall = sample.snowfall.values
avgwindspeed = sample.avgwindspeed.values
avgtemperature = sample.avgtemperature.values

# Complete the code
# You may have to use multiple lines of code
plt.scatter(?,?,label = ?)

