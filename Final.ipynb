{
  "nbformat": 4,
  "nbformat_minor": 0,
  "metadata": {
    "colab": {
      "name": "CS4347_FinalProject_Group10.ipynb",
      "provenance": [],
      "collapsed_sections": [],
      "machine_shape": "hm"
    },
    "kernelspec": {
      "name": "python3",
      "display_name": "Python 3"
    },
    "accelerator": "GPU"
  },
  "cells": [
    {
      "cell_type": "markdown",
      "metadata": {
        "id": "Gqmu_wKjfoy7"
      },
      "source": [
        "# **Movie Recommender**\n",
        "# Group 10\n",
        "# Blake Burns, Christian Coulter, Alexander Pegg"
      ]
    },
    {
      "cell_type": "markdown",
      "metadata": {
        "id": "2jxbeKx1gETD"
      },
      "source": [
        "**Import Libraries**"
      ]
    },
    {
      "cell_type": "code",
      "metadata": {
        "id": "KAJzZi6dfeEy"
      },
      "source": [
        "import matplotlib.pyplot as plt\n",
        "import pandas as pd\n",
        "import numpy as np\n",
        "from scipy.sparse import csr_matrix\n",
        "from sklearn.neighbors import NearestNeighbors\n",
        "from sklearn.model_selection import train_test_split\n",
        "from math import pow, sqrt\n",
        "import os"
      ],
      "execution_count": null,
      "outputs": []
    },
    {
      "cell_type": "markdown",
      "metadata": {
        "id": "c-WmVEMWgU6b"
      },
      "source": [
        "**Load Dataset**"
      ]
    },
    {
      "cell_type": "code",
      "metadata": {
        "id": "mbBens-ggNS_",
        "outputId": "f253e971-c060-4e31-d1fd-17379a4b5486",
        "colab": {
          "base_uri": "https://localhost:8080/",
          "height": 124
        }
      },
      "source": [
        "from google.colab import drive\n",
        "drive.mount('/content/drive')"
      ],
      "execution_count": null,
      "outputs": [
        {
          "output_type": "stream",
          "text": [
            "Go to this URL in a browser: https://accounts.google.com/o/oauth2/auth?client_id=947318989803-6bn6qk8qdgf4n4g3pfee6491hc0brc4i.apps.googleusercontent.com&redirect_uri=urn%3aietf%3awg%3aoauth%3a2.0%3aoob&response_type=code&scope=email%20https%3a%2f%2fwww.googleapis.com%2fauth%2fdocs.test%20https%3a%2f%2fwww.googleapis.com%2fauth%2fdrive%20https%3a%2f%2fwww.googleapis.com%2fauth%2fdrive.photos.readonly%20https%3a%2f%2fwww.googleapis.com%2fauth%2fpeopleapi.readonly\n",
            "\n",
            "Enter your authorization code:\n",
            "··········\n",
            "Mounted at /content/drive\n"
          ],
          "name": "stdout"
        }
      ]
    },
    {
      "cell_type": "code",
      "metadata": {
        "id": "-oBf9bYKimNE",
        "outputId": "b6bce4c1-b2ec-4261-8683-5523ec01313a",
        "colab": {
          "base_uri": "https://localhost:8080/",
          "height": 69
        }
      },
      "source": [
        "!cp /content/drive/My\\ Drive/FINAL_PROJECT/* ./\n",
        "!ls"
      ],
      "execution_count": null,
      "outputs": [
        {
          "output_type": "stream",
          "text": [
            "credits.csv   links.csv        movies_metadata.csv  sample_data\n",
            "drive\t      links_small.csv  ratings.csv\n",
            "keywords.csv  movies.csv       ratings_small.csv\n"
          ],
          "name": "stdout"
        }
      ]
    },
    {
      "cell_type": "code",
      "metadata": {
        "id": "LUK6pqjLio2W"
      },
      "source": [
        "movies = pd.read_csv('movies.csv')\n",
        "ratings = pd.read_csv('ratings.csv')"
      ],
      "execution_count": null,
      "outputs": []
    },
    {
      "cell_type": "markdown",
      "metadata": {
        "id": "0kQWppSojKIU"
      },
      "source": [
        "**Understand Data**\n"
      ]
    },
    {
      "cell_type": "markdown",
      "metadata": {
        "id": "mEWAEm8DppVC"
      },
      "source": [
        "*Movies Dataset*"
      ]
    },
    {
      "cell_type": "code",
      "metadata": {
        "id": "GHSv2sqHo4iS",
        "outputId": "3072ff2e-2087-4943-e5ed-283377f26749",
        "colab": {
          "base_uri": "https://localhost:8080/",
          "height": 170
        }
      },
      "source": [
        "print(movies.head())\n",
        "print(movies.shape)"
      ],
      "execution_count": null,
      "outputs": [
        {
          "output_type": "stream",
          "text": [
            "   movieId  ...                                       genres\n",
            "0        1  ...  Adventure|Animation|Children|Comedy|Fantasy\n",
            "1        2  ...                   Adventure|Children|Fantasy\n",
            "2        3  ...                               Comedy|Romance\n",
            "3        4  ...                         Comedy|Drama|Romance\n",
            "4        5  ...                                       Comedy\n",
            "\n",
            "[5 rows x 3 columns]\n",
            "(10329, 3)\n"
          ],
          "name": "stdout"
        }
      ]
    },
    {
      "cell_type": "code",
      "metadata": {
        "id": "UM1_xRPCpUDp",
        "outputId": "1323d96a-4f63-4c98-823d-81847eacb67b",
        "colab": {
          "base_uri": "https://localhost:8080/",
          "height": 204
        }
      },
      "source": [
        "print(movies.info())"
      ],
      "execution_count": null,
      "outputs": [
        {
          "output_type": "stream",
          "text": [
            "<class 'pandas.core.frame.DataFrame'>\n",
            "RangeIndex: 10329 entries, 0 to 10328\n",
            "Data columns (total 3 columns):\n",
            " #   Column   Non-Null Count  Dtype \n",
            "---  ------   --------------  ----- \n",
            " 0   movieId  10329 non-null  int64 \n",
            " 1   title    10329 non-null  object\n",
            " 2   genres   10329 non-null  object\n",
            "dtypes: int64(1), object(2)\n",
            "memory usage: 242.2+ KB\n",
            "None\n"
          ],
          "name": "stdout"
        }
      ]
    },
    {
      "cell_type": "markdown",
      "metadata": {
        "id": "E7BJUKG3piuj"
      },
      "source": [
        "*Ratings Dataset*"
      ]
    },
    {
      "cell_type": "code",
      "metadata": {
        "id": "e9DwK3aMOa2O",
        "outputId": "b0091ad9-4bf2-455b-f789-a677a67ff41d",
        "colab": {
          "base_uri": "https://localhost:8080/",
          "height": 136
        }
      },
      "source": [
        "print(ratings.head())\n",
        "print(ratings.shape)"
      ],
      "execution_count": null,
      "outputs": [
        {
          "output_type": "stream",
          "text": [
            "   userId  movieId  rating   timestamp\n",
            "0       1       16     4.0  1217897793\n",
            "1       1       24     1.5  1217895807\n",
            "2       1       32     4.0  1217896246\n",
            "3       1       47     4.0  1217896556\n",
            "4       1       50     4.0  1217896523\n",
            "(105339, 4)\n"
          ],
          "name": "stdout"
        }
      ]
    },
    {
      "cell_type": "code",
      "metadata": {
        "id": "3a1rix7sObC_",
        "outputId": "8a3bef53-6216-4a2d-fbf8-e1007ee9f3da",
        "colab": {
          "base_uri": "https://localhost:8080/",
          "height": 442
        }
      },
      "source": [
        "print(ratings.info())\n",
        "print(ratings.columns)\n",
        "print(ratings.rating.value_counts)"
      ],
      "execution_count": null,
      "outputs": [
        {
          "output_type": "stream",
          "text": [
            "<class 'pandas.core.frame.DataFrame'>\n",
            "RangeIndex: 105339 entries, 0 to 105338\n",
            "Data columns (total 4 columns):\n",
            " #   Column     Non-Null Count   Dtype  \n",
            "---  ------     --------------   -----  \n",
            " 0   userId     105339 non-null  int64  \n",
            " 1   movieId    105339 non-null  int64  \n",
            " 2   rating     105339 non-null  float64\n",
            " 3   timestamp  105339 non-null  int64  \n",
            "dtypes: float64(1), int64(3)\n",
            "memory usage: 3.2 MB\n",
            "None\n",
            "Index(['userId', 'movieId', 'rating', 'timestamp'], dtype='object')\n",
            "<bound method IndexOpsMixin.value_counts of 0         4.0\n",
            "1         1.5\n",
            "2         4.0\n",
            "3         4.0\n",
            "4         4.0\n",
            "         ... \n",
            "105334    4.0\n",
            "105335    3.5\n",
            "105336    4.0\n",
            "105337    2.5\n",
            "105338    4.5\n",
            "Name: rating, Length: 105339, dtype: float64>\n"
          ],
          "name": "stdout"
        }
      ]
    },
    {
      "cell_type": "code",
      "metadata": {
        "id": "pK4cGprvJZiC",
        "outputId": "c5a469ed-9aca-4f2e-9d4d-3359a4780b30",
        "colab": {
          "base_uri": "https://localhost:8080/",
          "height": 339
        }
      },
      "source": [
        "plt.rc(\"font\", size=15)\n",
        "ratings.rating.value_counts(sort=False).plot(kind='bar')\n",
        "plt.title('Rating Distribution\\n')\n",
        "plt.xlabel('Rating')\n",
        "plt.ylabel('Count')\n",
        "plt.show()"
      ],
      "execution_count": null,
      "outputs": [
        {
          "output_type": "display_data",
          "data": {
            "image/png": "[encoded data removed]",
            "text/plain": [
              "<Figure size 432x288 with 1 Axes>"
            ]
          },
          "metadata": {
            "tags": [],
            "needs_background": "light"
          }
        }
      ]
    },
    {
      "cell_type": "markdown",
      "metadata": {
        "id": "CrygMztrUgBa"
      },
      "source": [
        "**Merge Datasets**"
      ]
    },
    {
      "cell_type": "code",
      "metadata": {
        "id": "n28PZ6oa-8pX",
        "outputId": "eeaf835a-ba98-473c-b955-9bfbd77f7474",
        "colab": {
          "base_uri": "https://localhost:8080/",
          "height": 206
        }
      },
      "source": [
        "avg_ratings = ratings.groupby(['movieId'],as_index=False)['rating'].mean()\n",
        "avg_ratings.head()"
      ],
      "execution_count": null,
      "outputs": [
        {
          "output_type": "execute_result",
          "data": {
            "text/html": [
              "<div>\n",
              "<style scoped>\n",
              "    .dataframe tbody tr th:only-of-type {\n",
              "        vertical-align: middle;\n",
              "    }\n",
              "\n",
              "    .dataframe tbody tr th {\n",
              "        vertical-align: top;\n",
              "    }\n",
              "\n",
              "    .dataframe thead th {\n",
              "        text-align: right;\n",
              "    }\n",
              "</style>\n",
              "<table border=\"1\" class=\"dataframe\">\n",
              "  <thead>\n",
              "    <tr style=\"text-align: right;\">\n",
              "      <th></th>\n",
              "      <th>movieId</th>\n",
              "      <th>rating</th>\n",
              "    </tr>\n",
              "  </thead>\n",
              "  <tbody>\n",
              "    <tr>\n",
              "      <th>0</th>\n",
              "      <td>1</td>\n",
              "      <td>3.907328</td>\n",
              "    </tr>\n",
              "    <tr>\n",
              "      <th>1</th>\n",
              "      <td>2</td>\n",
              "      <td>3.353261</td>\n",
              "    </tr>\n",
              "    <tr>\n",
              "      <th>2</th>\n",
              "      <td>3</td>\n",
              "      <td>3.189655</td>\n",
              "    </tr>\n",
              "    <tr>\n",
              "      <th>3</th>\n",
              "      <td>4</td>\n",
              "      <td>2.818182</td>\n",
              "    </tr>\n",
              "    <tr>\n",
              "      <th>4</th>\n",
              "      <td>5</td>\n",
              "      <td>3.250000</td>\n",
              "    </tr>\n",
              "  </tbody>\n",
              "</table>\n",
              "</div>"
            ],
            "text/plain": [
              "   movieId    rating\n",
              "0        1  3.907328\n",
              "1        2  3.353261\n",
              "2        3  3.189655\n",
              "3        4  2.818182\n",
              "4        5  3.250000"
            ]
          },
          "metadata": {
            "tags": []
          },
          "execution_count": 7
        }
      ]
    },
    {
      "cell_type": "code",
      "metadata": {
        "id": "_Z9N7aPaBBA4",
        "outputId": "008d59b9-ec30-4476-b05b-14d860025d5f",
        "colab": {
          "base_uri": "https://localhost:8080/",
          "height": 424
        }
      },
      "source": [
        "movies2 = pd.merge(movies, ratings, on='movieId')\n",
        "movies2.round(1)"
      ],
      "execution_count": null,
      "outputs": [
        {
          "output_type": "execute_result",
          "data": {
            "text/html": [
              "<div>\n",
              "<style scoped>\n",
              "    .dataframe tbody tr th:only-of-type {\n",
              "        vertical-align: middle;\n",
              "    }\n",
              "\n",
              "    .dataframe tbody tr th {\n",
              "        vertical-align: top;\n",
              "    }\n",
              "\n",
              "    .dataframe thead th {\n",
              "        text-align: right;\n",
              "    }\n",
              "</style>\n",
              "<table border=\"1\" class=\"dataframe\">\n",
              "  <thead>\n",
              "    <tr style=\"text-align: right;\">\n",
              "      <th></th>\n",
              "      <th>movieId</th>\n",
              "      <th>title</th>\n",
              "      <th>genres</th>\n",
              "      <th>userId</th>\n",
              "      <th>rating</th>\n",
              "      <th>timestamp</th>\n",
              "    </tr>\n",
              "  </thead>\n",
              "  <tbody>\n",
              "    <tr>\n",
              "      <th>0</th>\n",
              "      <td>1</td>\n",
              "      <td>Toy Story (1995)</td>\n",
              "      <td>Adventure|Animation|Children|Comedy|Fantasy</td>\n",
              "      <td>2</td>\n",
              "      <td>5.0</td>\n",
              "      <td>859046895</td>\n",
              "    </tr>\n",
              "    <tr>\n",
              "      <th>1</th>\n",
              "      <td>1</td>\n",
              "      <td>Toy Story (1995)</td>\n",
              "      <td>Adventure|Animation|Children|Comedy|Fantasy</td>\n",
              "      <td>5</td>\n",
              "      <td>4.0</td>\n",
              "      <td>1303501039</td>\n",
              "    </tr>\n",
              "    <tr>\n",
              "      <th>2</th>\n",
              "      <td>1</td>\n",
              "      <td>Toy Story (1995)</td>\n",
              "      <td>Adventure|Animation|Children|Comedy|Fantasy</td>\n",
              "      <td>8</td>\n",
              "      <td>5.0</td>\n",
              "      <td>858610933</td>\n",
              "    </tr>\n",
              "    <tr>\n",
              "      <th>3</th>\n",
              "      <td>1</td>\n",
              "      <td>Toy Story (1995)</td>\n",
              "      <td>Adventure|Animation|Children|Comedy|Fantasy</td>\n",
              "      <td>11</td>\n",
              "      <td>4.0</td>\n",
              "      <td>850815810</td>\n",
              "    </tr>\n",
              "    <tr>\n",
              "      <th>4</th>\n",
              "      <td>1</td>\n",
              "      <td>Toy Story (1995)</td>\n",
              "      <td>Adventure|Animation|Children|Comedy|Fantasy</td>\n",
              "      <td>14</td>\n",
              "      <td>4.0</td>\n",
              "      <td>851766286</td>\n",
              "    </tr>\n",
              "    <tr>\n",
              "      <th>...</th>\n",
              "      <td>...</td>\n",
              "      <td>...</td>\n",
              "      <td>...</td>\n",
              "      <td>...</td>\n",
              "      <td>...</td>\n",
              "      <td>...</td>\n",
              "    </tr>\n",
              "    <tr>\n",
              "      <th>105334</th>\n",
              "      <td>148238</td>\n",
              "      <td>A Very Murray Christmas (2015)</td>\n",
              "      <td>Comedy</td>\n",
              "      <td>475</td>\n",
              "      <td>3.0</td>\n",
              "      <td>1451213043</td>\n",
              "    </tr>\n",
              "    <tr>\n",
              "      <th>105335</th>\n",
              "      <td>148626</td>\n",
              "      <td>The Big Short (2015)</td>\n",
              "      <td>Drama</td>\n",
              "      <td>458</td>\n",
              "      <td>4.0</td>\n",
              "      <td>1452014749</td>\n",
              "    </tr>\n",
              "    <tr>\n",
              "      <th>105336</th>\n",
              "      <td>148626</td>\n",
              "      <td>The Big Short (2015)</td>\n",
              "      <td>Drama</td>\n",
              "      <td>576</td>\n",
              "      <td>4.5</td>\n",
              "      <td>1451687664</td>\n",
              "    </tr>\n",
              "    <tr>\n",
              "      <th>105337</th>\n",
              "      <td>148626</td>\n",
              "      <td>The Big Short (2015)</td>\n",
              "      <td>Drama</td>\n",
              "      <td>668</td>\n",
              "      <td>4.5</td>\n",
              "      <td>1451148148</td>\n",
              "    </tr>\n",
              "    <tr>\n",
              "      <th>105338</th>\n",
              "      <td>149532</td>\n",
              "      <td>Marco Polo: One Hundred Eyes (2015)</td>\n",
              "      <td>(no genres listed)</td>\n",
              "      <td>475</td>\n",
              "      <td>4.0</td>\n",
              "      <td>1451223429</td>\n",
              "    </tr>\n",
              "  </tbody>\n",
              "</table>\n",
              "<p>105339 rows × 6 columns</p>\n",
              "</div>"
            ],
            "text/plain": [
              "        movieId                                title  ... rating   timestamp\n",
              "0             1                     Toy Story (1995)  ...    5.0   859046895\n",
              "1             1                     Toy Story (1995)  ...    4.0  1303501039\n",
              "2             1                     Toy Story (1995)  ...    5.0   858610933\n",
              "3             1                     Toy Story (1995)  ...    4.0   850815810\n",
              "4             1                     Toy Story (1995)  ...    4.0   851766286\n",
              "...         ...                                  ...  ...    ...         ...\n",
              "105334   148238       A Very Murray Christmas (2015)  ...    3.0  1451213043\n",
              "105335   148626                 The Big Short (2015)  ...    4.0  1452014749\n",
              "105336   148626                 The Big Short (2015)  ...    4.5  1451687664\n",
              "105337   148626                 The Big Short (2015)  ...    4.5  1451148148\n",
              "105338   149532  Marco Polo: One Hundred Eyes (2015)  ...    4.0  1451223429\n",
              "\n",
              "[105339 rows x 6 columns]"
            ]
          },
          "metadata": {
            "tags": []
          },
          "execution_count": 8
        }
      ]
    },
    {
      "cell_type": "code",
      "metadata": {
        "id": "T-A_BJIa6CR_"
      },
      "source": [
        "# Separting movie title and year part using split function\n",
        "split_values = movies2['title'].str.split(\"(\", n = 1, expand = True) \n",
        "\n",
        "# setting 'movie_title' values to title part and creating 'release_year' column.\n",
        "movies2.title = split_values[0]\n",
        "movies2['release_year'] = split_values[1]\n",
        "\n",
        "# Cleaning the release_year series and dropping 'genre' columns as it has already been one hot encoded.\n",
        "movies2['release_year'] = movies2.release_year.str.replace(')','')\n"
      ],
      "execution_count": null,
      "outputs": []
    },
    {
      "cell_type": "code",
      "metadata": {
        "id": "_l7TNpLK6zAX",
        "outputId": "3e943cd0-b022-47aa-a368-94bd1bdcd4cc",
        "colab": {
          "base_uri": "https://localhost:8080/",
          "height": 206
        }
      },
      "source": [
        "movies2.head()"
      ],
      "execution_count": null,
      "outputs": [
        {
          "output_type": "execute_result",
          "data": {
            "text/html": [
              "<div>\n",
              "<style scoped>\n",
              "    .dataframe tbody tr th:only-of-type {\n",
              "        vertical-align: middle;\n",
              "    }\n",
              "\n",
              "    .dataframe tbody tr th {\n",
              "        vertical-align: top;\n",
              "    }\n",
              "\n",
              "    .dataframe thead th {\n",
              "        text-align: right;\n",
              "    }\n",
              "</style>\n",
              "<table border=\"1\" class=\"dataframe\">\n",
              "  <thead>\n",
              "    <tr style=\"text-align: right;\">\n",
              "      <th></th>\n",
              "      <th>movieId</th>\n",
              "      <th>title</th>\n",
              "      <th>genres</th>\n",
              "      <th>userId</th>\n",
              "      <th>rating</th>\n",
              "      <th>timestamp</th>\n",
              "      <th>release_year</th>\n",
              "    </tr>\n",
              "  </thead>\n",
              "  <tbody>\n",
              "    <tr>\n",
              "      <th>0</th>\n",
              "      <td>1</td>\n",
              "      <td>Toy Story</td>\n",
              "      <td>Adventure|Animation|Children|Comedy|Fantasy</td>\n",
              "      <td>2</td>\n",
              "      <td>5.0</td>\n",
              "      <td>859046895</td>\n",
              "      <td>1995</td>\n",
              "    </tr>\n",
              "    <tr>\n",
              "      <th>1</th>\n",
              "      <td>1</td>\n",
              "      <td>Toy Story</td>\n",
              "      <td>Adventure|Animation|Children|Comedy|Fantasy</td>\n",
              "      <td>5</td>\n",
              "      <td>4.0</td>\n",
              "      <td>1303501039</td>\n",
              "      <td>1995</td>\n",
              "    </tr>\n",
              "    <tr>\n",
              "      <th>2</th>\n",
              "      <td>1</td>\n",
              "      <td>Toy Story</td>\n",
              "      <td>Adventure|Animation|Children|Comedy|Fantasy</td>\n",
              "      <td>8</td>\n",
              "      <td>5.0</td>\n",
              "      <td>858610933</td>\n",
              "      <td>1995</td>\n",
              "    </tr>\n",
              "    <tr>\n",
              "      <th>3</th>\n",
              "      <td>1</td>\n",
              "      <td>Toy Story</td>\n",
              "      <td>Adventure|Animation|Children|Comedy|Fantasy</td>\n",
              "      <td>11</td>\n",
              "      <td>4.0</td>\n",
              "      <td>850815810</td>\n",
              "      <td>1995</td>\n",
              "    </tr>\n",
              "    <tr>\n",
              "      <th>4</th>\n",
              "      <td>1</td>\n",
              "      <td>Toy Story</td>\n",
              "      <td>Adventure|Animation|Children|Comedy|Fantasy</td>\n",
              "      <td>14</td>\n",
              "      <td>4.0</td>\n",
              "      <td>851766286</td>\n",
              "      <td>1995</td>\n",
              "    </tr>\n",
              "  </tbody>\n",
              "</table>\n",
              "</div>"
            ],
            "text/plain": [
              "   movieId       title  ...   timestamp  release_year\n",
              "0        1  Toy Story   ...   859046895          1995\n",
              "1        1  Toy Story   ...  1303501039          1995\n",
              "2        1  Toy Story   ...   858610933          1995\n",
              "3        1  Toy Story   ...   850815810          1995\n",
              "4        1  Toy Story   ...   851766286          1995\n",
              "\n",
              "[5 rows x 7 columns]"
            ]
          },
          "metadata": {
            "tags": []
          },
          "execution_count": 10
        }
      ]
    },
    {
      "cell_type": "markdown",
      "metadata": {
        "id": "sQACiJh3UlzU"
      },
      "source": [
        "**Create kNN Model**"
      ]
    },
    {
      "cell_type": "code",
      "metadata": {
        "id": "OqwvvXfKUtjp"
      },
      "source": [
        "\n",
        "movies2 = movies2.drop_duplicates(['userId', 'title'])\n",
        "movies_piv = movies2.pivot(\n",
        "    index='title',\n",
        "    columns='userId',\n",
        "    values='rating'\n",
        ").fillna(0)\n",
        "\n",
        "movies_matrix = csr_matrix(movies_piv.values)"
      ],
      "execution_count": null,
      "outputs": []
    },
    {
      "cell_type": "code",
      "metadata": {
        "id": "-uP7gYEj_btn",
        "outputId": "e9b8eb47-f397-45db-d4ec-bfbfe173bd73",
        "colab": {
          "base_uri": "https://localhost:8080/",
          "height": 391
        }
      },
      "source": [
        "movies_piv.head()"
      ],
      "execution_count": null,
      "outputs": [
        {
          "output_type": "execute_result",
          "data": {
            "text/html": [
              "<div>\n",
              "<style scoped>\n",
              "    .dataframe tbody tr th:only-of-type {\n",
              "        vertical-align: middle;\n",
              "    }\n",
              "\n",
              "    .dataframe tbody tr th {\n",
              "        vertical-align: top;\n",
              "    }\n",
              "\n",
              "    .dataframe thead th {\n",
              "        text-align: right;\n",
              "    }\n",
              "</style>\n",
              "<table border=\"1\" class=\"dataframe\">\n",
              "  <thead>\n",
              "    <tr style=\"text-align: right;\">\n",
              "      <th>userId</th>\n",
              "      <th>1</th>\n",
              "      <th>2</th>\n",
              "      <th>3</th>\n",
              "      <th>4</th>\n",
              "      <th>5</th>\n",
              "      <th>6</th>\n",
              "      <th>7</th>\n",
              "      <th>8</th>\n",
              "      <th>9</th>\n",
              "      <th>10</th>\n",
              "      <th>11</th>\n",
              "      <th>12</th>\n",
              "      <th>13</th>\n",
              "      <th>14</th>\n",
              "      <th>15</th>\n",
              "      <th>16</th>\n",
              "      <th>17</th>\n",
              "      <th>18</th>\n",
              "      <th>19</th>\n",
              "      <th>20</th>\n",
              "      <th>21</th>\n",
              "      <th>22</th>\n",
              "      <th>23</th>\n",
              "      <th>24</th>\n",
              "      <th>25</th>\n",
              "      <th>26</th>\n",
              "      <th>27</th>\n",
              "      <th>28</th>\n",
              "      <th>29</th>\n",
              "      <th>30</th>\n",
              "      <th>31</th>\n",
              "      <th>32</th>\n",
              "      <th>33</th>\n",
              "      <th>34</th>\n",
              "      <th>35</th>\n",
              "      <th>36</th>\n",
              "      <th>37</th>\n",
              "      <th>38</th>\n",
              "      <th>39</th>\n",
              "      <th>40</th>\n",
              "      <th>...</th>\n",
              "      <th>629</th>\n",
              "      <th>630</th>\n",
              "      <th>631</th>\n",
              "      <th>632</th>\n",
              "      <th>633</th>\n",
              "      <th>634</th>\n",
              "      <th>635</th>\n",
              "      <th>636</th>\n",
              "      <th>637</th>\n",
              "      <th>638</th>\n",
              "      <th>639</th>\n",
              "      <th>640</th>\n",
              "      <th>641</th>\n",
              "      <th>642</th>\n",
              "      <th>643</th>\n",
              "      <th>644</th>\n",
              "      <th>645</th>\n",
              "      <th>646</th>\n",
              "      <th>647</th>\n",
              "      <th>648</th>\n",
              "      <th>649</th>\n",
              "      <th>650</th>\n",
              "      <th>651</th>\n",
              "      <th>652</th>\n",
              "      <th>653</th>\n",
              "      <th>654</th>\n",
              "      <th>655</th>\n",
              "      <th>656</th>\n",
              "      <th>657</th>\n",
              "      <th>658</th>\n",
              "      <th>659</th>\n",
              "      <th>660</th>\n",
              "      <th>661</th>\n",
              "      <th>662</th>\n",
              "      <th>663</th>\n",
              "      <th>664</th>\n",
              "      <th>665</th>\n",
              "      <th>666</th>\n",
              "      <th>667</th>\n",
              "      <th>668</th>\n",
              "    </tr>\n",
              "    <tr>\n",
              "      <th>title</th>\n",
              "      <th></th>\n",
              "      <th></th>\n",
              "      <th></th>\n",
              "      <th></th>\n",
              "      <th></th>\n",
              "      <th></th>\n",
              "      <th></th>\n",
              "      <th></th>\n",
              "      <th></th>\n",
              "      <th></th>\n",
              "      <th></th>\n",
              "      <th></th>\n",
              "      <th></th>\n",
              "      <th></th>\n",
              "      <th></th>\n",
              "      <th></th>\n",
              "      <th></th>\n",
              "      <th></th>\n",
              "      <th></th>\n",
              "      <th></th>\n",
              "      <th></th>\n",
              "      <th></th>\n",
              "      <th></th>\n",
              "      <th></th>\n",
              "      <th></th>\n",
              "      <th></th>\n",
              "      <th></th>\n",
              "      <th></th>\n",
              "      <th></th>\n",
              "      <th></th>\n",
              "      <th></th>\n",
              "      <th></th>\n",
              "      <th></th>\n",
              "      <th></th>\n",
              "      <th></th>\n",
              "      <th></th>\n",
              "      <th></th>\n",
              "      <th></th>\n",
              "      <th></th>\n",
              "      <th></th>\n",
              "      <th></th>\n",
              "      <th></th>\n",
              "      <th></th>\n",
              "      <th></th>\n",
              "      <th></th>\n",
              "      <th></th>\n",
              "      <th></th>\n",
              "      <th></th>\n",
              "      <th></th>\n",
              "      <th></th>\n",
              "      <th></th>\n",
              "      <th></th>\n",
              "      <th></th>\n",
              "      <th></th>\n",
              "      <th></th>\n",
              "      <th></th>\n",
              "      <th></th>\n",
              "      <th></th>\n",
              "      <th></th>\n",
              "      <th></th>\n",
              "      <th></th>\n",
              "      <th></th>\n",
              "      <th></th>\n",
              "      <th></th>\n",
              "      <th></th>\n",
              "      <th></th>\n",
              "      <th></th>\n",
              "      <th></th>\n",
              "      <th></th>\n",
              "      <th></th>\n",
              "      <th></th>\n",
              "      <th></th>\n",
              "      <th></th>\n",
              "      <th></th>\n",
              "      <th></th>\n",
              "      <th></th>\n",
              "      <th></th>\n",
              "      <th></th>\n",
              "      <th></th>\n",
              "      <th></th>\n",
              "      <th></th>\n",
              "    </tr>\n",
              "  </thead>\n",
              "  <tbody>\n",
              "    <tr>\n",
              "      <th></th>\n",
              "      <td>0.0</td>\n",
              "      <td>0.0</td>\n",
              "      <td>0.0</td>\n",
              "      <td>0.0</td>\n",
              "      <td>0.0</td>\n",
              "      <td>0.0</td>\n",
              "      <td>0.0</td>\n",
              "      <td>0.0</td>\n",
              "      <td>0.0</td>\n",
              "      <td>0.0</td>\n",
              "      <td>0.0</td>\n",
              "      <td>0.0</td>\n",
              "      <td>0.0</td>\n",
              "      <td>0.0</td>\n",
              "      <td>0.0</td>\n",
              "      <td>0.0</td>\n",
              "      <td>0.0</td>\n",
              "      <td>0.0</td>\n",
              "      <td>0.0</td>\n",
              "      <td>5.0</td>\n",
              "      <td>0.0</td>\n",
              "      <td>0.0</td>\n",
              "      <td>0.0</td>\n",
              "      <td>0.0</td>\n",
              "      <td>0.0</td>\n",
              "      <td>0.0</td>\n",
              "      <td>0.0</td>\n",
              "      <td>0.0</td>\n",
              "      <td>0.0</td>\n",
              "      <td>0.0</td>\n",
              "      <td>0.0</td>\n",
              "      <td>0.0</td>\n",
              "      <td>0.0</td>\n",
              "      <td>0.0</td>\n",
              "      <td>0.0</td>\n",
              "      <td>0.0</td>\n",
              "      <td>0.0</td>\n",
              "      <td>3.5</td>\n",
              "      <td>0.0</td>\n",
              "      <td>0.0</td>\n",
              "      <td>...</td>\n",
              "      <td>0.0</td>\n",
              "      <td>0.0</td>\n",
              "      <td>0.0</td>\n",
              "      <td>0.0</td>\n",
              "      <td>0.0</td>\n",
              "      <td>0.0</td>\n",
              "      <td>0.0</td>\n",
              "      <td>0.0</td>\n",
              "      <td>0.0</td>\n",
              "      <td>0.0</td>\n",
              "      <td>0.0</td>\n",
              "      <td>0.0</td>\n",
              "      <td>0.0</td>\n",
              "      <td>0.0</td>\n",
              "      <td>4.5</td>\n",
              "      <td>0.0</td>\n",
              "      <td>0.0</td>\n",
              "      <td>0.0</td>\n",
              "      <td>0.0</td>\n",
              "      <td>0.0</td>\n",
              "      <td>0.0</td>\n",
              "      <td>0.0</td>\n",
              "      <td>0.0</td>\n",
              "      <td>0.0</td>\n",
              "      <td>0.0</td>\n",
              "      <td>0.0</td>\n",
              "      <td>0.0</td>\n",
              "      <td>0.0</td>\n",
              "      <td>0.0</td>\n",
              "      <td>0.0</td>\n",
              "      <td>0.0</td>\n",
              "      <td>0.0</td>\n",
              "      <td>0.0</td>\n",
              "      <td>0.0</td>\n",
              "      <td>0.0</td>\n",
              "      <td>0.0</td>\n",
              "      <td>0.0</td>\n",
              "      <td>0.0</td>\n",
              "      <td>0.0</td>\n",
              "      <td>2.0</td>\n",
              "    </tr>\n",
              "    <tr>\n",
              "      <th>'71</th>\n",
              "      <td>0.0</td>\n",
              "      <td>0.0</td>\n",
              "      <td>0.0</td>\n",
              "      <td>0.0</td>\n",
              "      <td>0.0</td>\n",
              "      <td>0.0</td>\n",
              "      <td>0.0</td>\n",
              "      <td>0.0</td>\n",
              "      <td>0.0</td>\n",
              "      <td>0.0</td>\n",
              "      <td>0.0</td>\n",
              "      <td>0.0</td>\n",
              "      <td>0.0</td>\n",
              "      <td>0.0</td>\n",
              "      <td>0.0</td>\n",
              "      <td>0.0</td>\n",
              "      <td>0.0</td>\n",
              "      <td>0.0</td>\n",
              "      <td>0.0</td>\n",
              "      <td>0.0</td>\n",
              "      <td>0.0</td>\n",
              "      <td>0.0</td>\n",
              "      <td>0.0</td>\n",
              "      <td>0.0</td>\n",
              "      <td>0.0</td>\n",
              "      <td>0.0</td>\n",
              "      <td>0.0</td>\n",
              "      <td>0.0</td>\n",
              "      <td>0.0</td>\n",
              "      <td>0.0</td>\n",
              "      <td>0.0</td>\n",
              "      <td>0.0</td>\n",
              "      <td>0.0</td>\n",
              "      <td>0.0</td>\n",
              "      <td>0.0</td>\n",
              "      <td>0.0</td>\n",
              "      <td>0.0</td>\n",
              "      <td>0.0</td>\n",
              "      <td>0.0</td>\n",
              "      <td>0.0</td>\n",
              "      <td>...</td>\n",
              "      <td>0.0</td>\n",
              "      <td>0.0</td>\n",
              "      <td>0.0</td>\n",
              "      <td>0.0</td>\n",
              "      <td>0.0</td>\n",
              "      <td>0.0</td>\n",
              "      <td>0.0</td>\n",
              "      <td>0.0</td>\n",
              "      <td>0.0</td>\n",
              "      <td>0.0</td>\n",
              "      <td>0.0</td>\n",
              "      <td>0.0</td>\n",
              "      <td>0.0</td>\n",
              "      <td>0.0</td>\n",
              "      <td>0.0</td>\n",
              "      <td>0.0</td>\n",
              "      <td>0.0</td>\n",
              "      <td>0.0</td>\n",
              "      <td>0.0</td>\n",
              "      <td>0.0</td>\n",
              "      <td>0.0</td>\n",
              "      <td>0.0</td>\n",
              "      <td>0.0</td>\n",
              "      <td>0.0</td>\n",
              "      <td>0.0</td>\n",
              "      <td>0.0</td>\n",
              "      <td>0.0</td>\n",
              "      <td>0.0</td>\n",
              "      <td>0.0</td>\n",
              "      <td>0.0</td>\n",
              "      <td>0.0</td>\n",
              "      <td>0.0</td>\n",
              "      <td>0.0</td>\n",
              "      <td>0.0</td>\n",
              "      <td>0.0</td>\n",
              "      <td>0.0</td>\n",
              "      <td>0.0</td>\n",
              "      <td>0.0</td>\n",
              "      <td>0.0</td>\n",
              "      <td>0.0</td>\n",
              "    </tr>\n",
              "    <tr>\n",
              "      <th>'Hellboy': The Seeds of Creation</th>\n",
              "      <td>0.0</td>\n",
              "      <td>0.0</td>\n",
              "      <td>0.0</td>\n",
              "      <td>0.0</td>\n",
              "      <td>0.0</td>\n",
              "      <td>0.0</td>\n",
              "      <td>0.0</td>\n",
              "      <td>0.0</td>\n",
              "      <td>0.0</td>\n",
              "      <td>0.0</td>\n",
              "      <td>0.0</td>\n",
              "      <td>0.0</td>\n",
              "      <td>0.0</td>\n",
              "      <td>0.0</td>\n",
              "      <td>0.0</td>\n",
              "      <td>0.0</td>\n",
              "      <td>0.0</td>\n",
              "      <td>0.0</td>\n",
              "      <td>0.0</td>\n",
              "      <td>0.0</td>\n",
              "      <td>0.0</td>\n",
              "      <td>0.0</td>\n",
              "      <td>0.0</td>\n",
              "      <td>0.0</td>\n",
              "      <td>0.0</td>\n",
              "      <td>0.0</td>\n",
              "      <td>0.0</td>\n",
              "      <td>0.0</td>\n",
              "      <td>0.0</td>\n",
              "      <td>0.0</td>\n",
              "      <td>0.0</td>\n",
              "      <td>0.0</td>\n",
              "      <td>0.0</td>\n",
              "      <td>0.0</td>\n",
              "      <td>0.0</td>\n",
              "      <td>0.0</td>\n",
              "      <td>0.0</td>\n",
              "      <td>0.0</td>\n",
              "      <td>0.0</td>\n",
              "      <td>0.0</td>\n",
              "      <td>...</td>\n",
              "      <td>0.0</td>\n",
              "      <td>0.0</td>\n",
              "      <td>0.0</td>\n",
              "      <td>0.0</td>\n",
              "      <td>0.0</td>\n",
              "      <td>0.0</td>\n",
              "      <td>0.0</td>\n",
              "      <td>0.0</td>\n",
              "      <td>0.0</td>\n",
              "      <td>0.0</td>\n",
              "      <td>0.0</td>\n",
              "      <td>0.0</td>\n",
              "      <td>0.0</td>\n",
              "      <td>0.0</td>\n",
              "      <td>0.0</td>\n",
              "      <td>0.0</td>\n",
              "      <td>0.0</td>\n",
              "      <td>0.0</td>\n",
              "      <td>0.0</td>\n",
              "      <td>0.0</td>\n",
              "      <td>0.0</td>\n",
              "      <td>0.0</td>\n",
              "      <td>0.0</td>\n",
              "      <td>0.0</td>\n",
              "      <td>0.0</td>\n",
              "      <td>0.0</td>\n",
              "      <td>0.0</td>\n",
              "      <td>0.0</td>\n",
              "      <td>0.0</td>\n",
              "      <td>0.0</td>\n",
              "      <td>0.0</td>\n",
              "      <td>0.0</td>\n",
              "      <td>0.0</td>\n",
              "      <td>0.0</td>\n",
              "      <td>0.0</td>\n",
              "      <td>0.0</td>\n",
              "      <td>0.0</td>\n",
              "      <td>0.0</td>\n",
              "      <td>0.0</td>\n",
              "      <td>0.0</td>\n",
              "    </tr>\n",
              "    <tr>\n",
              "      <th>'Round Midnight</th>\n",
              "      <td>0.0</td>\n",
              "      <td>0.0</td>\n",
              "      <td>0.0</td>\n",
              "      <td>0.0</td>\n",
              "      <td>0.0</td>\n",
              "      <td>0.0</td>\n",
              "      <td>0.0</td>\n",
              "      <td>0.0</td>\n",
              "      <td>0.0</td>\n",
              "      <td>0.0</td>\n",
              "      <td>0.0</td>\n",
              "      <td>0.0</td>\n",
              "      <td>0.0</td>\n",
              "      <td>0.0</td>\n",
              "      <td>0.0</td>\n",
              "      <td>0.0</td>\n",
              "      <td>0.0</td>\n",
              "      <td>0.0</td>\n",
              "      <td>0.0</td>\n",
              "      <td>0.0</td>\n",
              "      <td>0.0</td>\n",
              "      <td>0.0</td>\n",
              "      <td>0.0</td>\n",
              "      <td>0.0</td>\n",
              "      <td>0.0</td>\n",
              "      <td>0.0</td>\n",
              "      <td>0.0</td>\n",
              "      <td>0.0</td>\n",
              "      <td>0.0</td>\n",
              "      <td>0.0</td>\n",
              "      <td>0.0</td>\n",
              "      <td>0.0</td>\n",
              "      <td>0.0</td>\n",
              "      <td>0.0</td>\n",
              "      <td>0.0</td>\n",
              "      <td>0.0</td>\n",
              "      <td>0.0</td>\n",
              "      <td>0.0</td>\n",
              "      <td>0.0</td>\n",
              "      <td>0.0</td>\n",
              "      <td>...</td>\n",
              "      <td>0.0</td>\n",
              "      <td>0.0</td>\n",
              "      <td>0.0</td>\n",
              "      <td>0.0</td>\n",
              "      <td>0.0</td>\n",
              "      <td>0.0</td>\n",
              "      <td>0.0</td>\n",
              "      <td>0.0</td>\n",
              "      <td>0.0</td>\n",
              "      <td>0.0</td>\n",
              "      <td>0.0</td>\n",
              "      <td>0.0</td>\n",
              "      <td>0.0</td>\n",
              "      <td>0.0</td>\n",
              "      <td>0.0</td>\n",
              "      <td>0.0</td>\n",
              "      <td>0.0</td>\n",
              "      <td>0.0</td>\n",
              "      <td>0.0</td>\n",
              "      <td>0.0</td>\n",
              "      <td>0.0</td>\n",
              "      <td>0.0</td>\n",
              "      <td>0.0</td>\n",
              "      <td>0.0</td>\n",
              "      <td>0.0</td>\n",
              "      <td>0.0</td>\n",
              "      <td>0.0</td>\n",
              "      <td>0.0</td>\n",
              "      <td>0.0</td>\n",
              "      <td>0.0</td>\n",
              "      <td>0.0</td>\n",
              "      <td>0.0</td>\n",
              "      <td>0.0</td>\n",
              "      <td>0.0</td>\n",
              "      <td>0.0</td>\n",
              "      <td>0.0</td>\n",
              "      <td>0.0</td>\n",
              "      <td>0.0</td>\n",
              "      <td>0.0</td>\n",
              "      <td>2.5</td>\n",
              "    </tr>\n",
              "    <tr>\n",
              "      <th>'Til There Was You</th>\n",
              "      <td>0.0</td>\n",
              "      <td>0.0</td>\n",
              "      <td>0.0</td>\n",
              "      <td>0.0</td>\n",
              "      <td>0.0</td>\n",
              "      <td>0.0</td>\n",
              "      <td>0.0</td>\n",
              "      <td>0.0</td>\n",
              "      <td>0.0</td>\n",
              "      <td>0.0</td>\n",
              "      <td>0.0</td>\n",
              "      <td>0.0</td>\n",
              "      <td>0.0</td>\n",
              "      <td>0.0</td>\n",
              "      <td>0.0</td>\n",
              "      <td>0.0</td>\n",
              "      <td>0.0</td>\n",
              "      <td>0.0</td>\n",
              "      <td>0.0</td>\n",
              "      <td>0.0</td>\n",
              "      <td>0.0</td>\n",
              "      <td>0.0</td>\n",
              "      <td>0.0</td>\n",
              "      <td>0.0</td>\n",
              "      <td>0.0</td>\n",
              "      <td>0.0</td>\n",
              "      <td>0.0</td>\n",
              "      <td>0.0</td>\n",
              "      <td>0.0</td>\n",
              "      <td>0.0</td>\n",
              "      <td>0.0</td>\n",
              "      <td>0.0</td>\n",
              "      <td>0.0</td>\n",
              "      <td>0.0</td>\n",
              "      <td>0.0</td>\n",
              "      <td>0.0</td>\n",
              "      <td>0.0</td>\n",
              "      <td>0.0</td>\n",
              "      <td>0.0</td>\n",
              "      <td>0.0</td>\n",
              "      <td>...</td>\n",
              "      <td>0.0</td>\n",
              "      <td>0.0</td>\n",
              "      <td>0.0</td>\n",
              "      <td>0.0</td>\n",
              "      <td>0.0</td>\n",
              "      <td>0.0</td>\n",
              "      <td>0.0</td>\n",
              "      <td>0.0</td>\n",
              "      <td>0.0</td>\n",
              "      <td>0.0</td>\n",
              "      <td>0.0</td>\n",
              "      <td>0.0</td>\n",
              "      <td>0.0</td>\n",
              "      <td>0.0</td>\n",
              "      <td>0.0</td>\n",
              "      <td>0.0</td>\n",
              "      <td>0.0</td>\n",
              "      <td>0.0</td>\n",
              "      <td>0.0</td>\n",
              "      <td>0.0</td>\n",
              "      <td>0.0</td>\n",
              "      <td>0.0</td>\n",
              "      <td>0.0</td>\n",
              "      <td>0.0</td>\n",
              "      <td>0.0</td>\n",
              "      <td>0.0</td>\n",
              "      <td>0.0</td>\n",
              "      <td>0.0</td>\n",
              "      <td>0.0</td>\n",
              "      <td>0.0</td>\n",
              "      <td>0.0</td>\n",
              "      <td>0.0</td>\n",
              "      <td>0.0</td>\n",
              "      <td>0.0</td>\n",
              "      <td>0.0</td>\n",
              "      <td>0.0</td>\n",
              "      <td>0.0</td>\n",
              "      <td>0.0</td>\n",
              "      <td>0.0</td>\n",
              "      <td>0.0</td>\n",
              "    </tr>\n",
              "  </tbody>\n",
              "</table>\n",
              "<p>5 rows × 668 columns</p>\n",
              "</div>"
            ],
            "text/plain": [
              "userId                             1    2    3    4    ...  665  666  667  668\n",
              "title                                                  ...                    \n",
              "                                   0.0  0.0  0.0  0.0  ...  0.0  0.0  0.0  2.0\n",
              "'71                                0.0  0.0  0.0  0.0  ...  0.0  0.0  0.0  0.0\n",
              "'Hellboy': The Seeds of Creation   0.0  0.0  0.0  0.0  ...  0.0  0.0  0.0  0.0\n",
              "'Round Midnight                    0.0  0.0  0.0  0.0  ...  0.0  0.0  0.0  2.5\n",
              "'Til There Was You                 0.0  0.0  0.0  0.0  ...  0.0  0.0  0.0  0.0\n",
              "\n",
              "[5 rows x 668 columns]"
            ]
          },
          "metadata": {
            "tags": []
          },
          "execution_count": 12
        }
      ]
    },
    {
      "cell_type": "code",
      "metadata": {
        "id": "v0VGv70N2SJn"
      },
      "source": [
        "movies_piv_binary = movies_piv.apply(np.sign)\n",
        "movies_piv_binary_matrix = csr_matrix(movies_piv_binary.values)"
      ],
      "execution_count": null,
      "outputs": []
    },
    {
      "cell_type": "code",
      "metadata": {
        "id": "DJiCkC1cVwjP",
        "outputId": "edc59d06-f39c-4d63-ca8f-81597be7325f",
        "colab": {
          "base_uri": "https://localhost:8080/",
          "height": 69
        }
      },
      "source": [
        "model = NearestNeighbors(metric='cosine', algorithm='brute', n_neighbors = 10)\n",
        "\n",
        "model.fit(movies_matrix)\n"
      ],
      "execution_count": null,
      "outputs": [
        {
          "output_type": "execute_result",
          "data": {
            "text/plain": [
              "NearestNeighbors(algorithm='brute', leaf_size=30, metric='cosine',\n",
              "                 metric_params=None, n_jobs=None, n_neighbors=10, p=2,\n",
              "                 radius=1.0)"
            ]
          },
          "metadata": {
            "tags": []
          },
          "execution_count": 14
        }
      ]
    },
    {
      "cell_type": "code",
      "metadata": {
        "id": "bj_j_ZaxGVw5",
        "outputId": "d3959c53-d907-4e49-ab08-491af8133730",
        "colab": {
          "base_uri": "https://localhost:8080/",
          "height": 34
        }
      },
      "source": [
        "print(movies_matrix.indices)"
      ],
      "execution_count": null,
      "outputs": [
        {
          "output_type": "stream",
          "text": [
            "[ 19  37  62 ... 626 667 667]\n"
          ],
          "name": "stdout"
        }
      ]
    },
    {
      "cell_type": "code",
      "metadata": {
        "id": "XaQ_DK393rnU",
        "outputId": "e593dc7d-4e5f-4fd7-af66-ed7a7e380674",
        "colab": {
          "base_uri": "https://localhost:8080/",
          "height": 121
        }
      },
      "source": [
        "import string\n",
        "!pip install fuzzywuzzy\n",
        "from fuzzywuzzy import fuzz\n",
        "from sklearn.metrics.pairwise import cosine_similarity\n",
        "\n",
        "#indices needs to be a list of names of the top movies by name with the query movie at the beginning\n",
        "def avg_cosine_similarity(indices, matrix):  \n",
        "  rec_movies = matrix.loc[indices]\n",
        "  similarity = np.mean(cosine_similarity(rec_movies, rec_movies)[0][1:])\n",
        "  return similarity\n",
        "\n",
        "def print_recommendations(query_title, movie_matrix, knn_model, k, prnt=1):\n",
        "    query_index = None\n",
        "    ratio_tuples = []\n",
        "    \n",
        "    for i in movie_matrix.index:\n",
        "        ratio = fuzz.ratio(i.lower(), query_title.lower())\n",
        "        if ratio >= 75:\n",
        "            current_query_index = movie_matrix.index.tolist().index(i)\n",
        "            ratio_tuples.append((i, ratio, current_query_index))\n",
        "    \n",
        "    #print('Possible matches: {0}\\n'.format([(x[0], x[1]) for x in ratio_tuples]))\n",
        "    \n",
        "    try:\n",
        "        query_index = max(ratio_tuples, key = lambda x: x[1])[2] # get the index of the best artist match in the data\n",
        "    except:\n",
        "        print('Your title didn\\'t match any in the data. Try again')\n",
        "        return None\n",
        "    \n",
        "    distances, indices = knn_model.kneighbors(movie_matrix.iloc[query_index, :].values.reshape(1, -1), n_neighbors = k + 1)\n",
        "    top_movies = []\n",
        "    for i in indices.flatten():\n",
        "      top_movies.append(movie_matrix.index[i])\n",
        "    similarity = avg_cosine_similarity(top_movies, movie_matrix)\n",
        "\n",
        "    if prnt == 1:\n",
        "      for i in range(0, len(distances.flatten())):\n",
        "        if i == 0:\n",
        "          print('Recommendations for {0}:\\n'.format(movie_matrix.index[query_index]))\n",
        "        else:\n",
        "          print('{0}: {1}(distance: {2})'.format(i, movie_matrix.index[indices.flatten()[i]], distances.flatten()[i]))\n",
        "\n",
        "      print('\\nAverage cosine similarity: {0}'.format(similarity))\n",
        "    \n",
        "    return similarity\n"
      ],
      "execution_count": null,
      "outputs": [
        {
          "output_type": "stream",
          "text": [
            "Collecting fuzzywuzzy\n",
            "  Downloading https://files.pythonhosted.org/packages/43/ff/74f23998ad2f93b945c0309f825be92e04e0348e062026998b5eefef4c33/fuzzywuzzy-0.18.0-py2.py3-none-any.whl\n",
            "Installing collected packages: fuzzywuzzy\n",
            "Successfully installed fuzzywuzzy-0.18.0\n"
          ],
          "name": "stdout"
        },
        {
          "output_type": "stream",
          "text": [
            "/usr/local/lib/python3.6/dist-packages/fuzzywuzzy/fuzz.py:11: UserWarning: Using slow pure-python SequenceMatcher. Install python-Levenshtein to remove this warning\n",
            "  warnings.warn('Using slow pure-python SequenceMatcher. Install python-Levenshtein to remove this warning')\n"
          ],
          "name": "stderr"
        }
      ]
    },
    {
      "cell_type": "markdown",
      "metadata": {
        "id": "r8gsT1gL8RpL"
      },
      "source": [
        "Run cell below for KNN recommendations"
      ]
    },
    {
      "cell_type": "code",
      "metadata": {
        "id": "Jir5sqQP79q0",
        "outputId": "4cdebc2f-d96c-4f69-bdf1-6e3836a21667",
        "colab": {
          "base_uri": "https://localhost:8080/",
          "height": 278
        }
      },
      "source": [
        "recommendation = input('Enter a movie title for recommendations: ')\n",
        "avgcossimilarity = print_recommendations(recommendation, movies_piv_binary, model, k=10)"
      ],
      "execution_count": null,
      "outputs": [
        {
          "output_type": "stream",
          "text": [
            "Enter a movie title for recommendations: thor\n",
            "Recommendations for Thor :\n",
            "\n",
            "1: Iron Man 3 (distance: 0.3431007237569832)\n",
            "2: Men in Black III (distance: 0.3589941135357907)\n",
            "3: Iron Man 2 (distance: 0.43299411950968825)\n",
            "4: Captain America: The First Avenger (distance: 0.43693210485283873)\n",
            "5: X-Men: First Class (distance: 0.43879627195940263)\n",
            "6: Captain America: The Winter Soldier (distance: 0.44430721940701623)\n",
            "7: Avengers, The (distance: 0.4642197006447156)\n",
            "8: Amazing Spider-Man, The (distance: 0.4683878924549958)\n",
            "9: Daybreakers (distance: 0.4703141126264213)\n",
            "10: Green Lantern (distance: 0.4728633286083196)\n",
            "\n",
            "Average cosine similarity: 0.5602630422266682\n"
          ],
          "name": "stdout"
        }
      ]
    },
    {
      "cell_type": "markdown",
      "metadata": {
        "id": "c-8BYo84Ut1F"
      },
      "source": [
        "**Truncated SVD**"
      ]
    },
    {
      "cell_type": "code",
      "metadata": {
        "id": "uaisQ6iw-ItI",
        "outputId": "51426d04-8a45-4ae5-9bf5-df396d43bf0b",
        "colab": {
          "base_uri": "https://localhost:8080/",
          "height": 374
        }
      },
      "source": [
        "movies_piv2 = movies2.pivot(index = 'userId', columns = 'title', values = 'rating').fillna(0)\n",
        "movies_piv2.head()"
      ],
      "execution_count": null,
      "outputs": [
        {
          "output_type": "execute_result",
          "data": {
            "text/html": [
              "<div>\n",
              "<style scoped>\n",
              "    .dataframe tbody tr th:only-of-type {\n",
              "        vertical-align: middle;\n",
              "    }\n",
              "\n",
              "    .dataframe tbody tr th {\n",
              "        vertical-align: top;\n",
              "    }\n",
              "\n",
              "    .dataframe thead th {\n",
              "        text-align: right;\n",
              "    }\n",
              "</style>\n",
              "<table border=\"1\" class=\"dataframe\">\n",
              "  <thead>\n",
              "    <tr style=\"text-align: right;\">\n",
              "      <th>title</th>\n",
              "      <th></th>\n",
              "      <th>'71</th>\n",
              "      <th>'Hellboy': The Seeds of Creation</th>\n",
              "      <th>'Round Midnight</th>\n",
              "      <th>'Til There Was You</th>\n",
              "      <th>'burbs, The</th>\n",
              "      <th>'night Mother</th>\n",
              "      <th>*batteries not included</th>\n",
              "      <th>...And Justice for All</th>\n",
              "      <th>10</th>\n",
              "      <th>10 Items or Less</th>\n",
              "      <th>10 Things I Hate About You</th>\n",
              "      <th>10 to Midnight</th>\n",
              "      <th>10,000 BC</th>\n",
              "      <th>100 Girls</th>\n",
              "      <th>101 Dalmatians</th>\n",
              "      <th>101 Reykjavik</th>\n",
              "      <th>102 Dalmatians</th>\n",
              "      <th>10th &amp; Wolf</th>\n",
              "      <th>10th Kingdom, The</th>\n",
              "      <th>11-11-11</th>\n",
              "      <th>11:14</th>\n",
              "      <th>11th Hour, The</th>\n",
              "      <th>12</th>\n",
              "      <th>12 Angry Men</th>\n",
              "      <th>12 Rounds</th>\n",
              "      <th>12 Years a Slave</th>\n",
              "      <th>127 Hours</th>\n",
              "      <th>12:01</th>\n",
              "      <th>13</th>\n",
              "      <th>13 Assassins</th>\n",
              "      <th>13 Ghosts</th>\n",
              "      <th>13 Going on 30</th>\n",
              "      <th>13 Rue Madeleine</th>\n",
              "      <th>13th Warrior, The</th>\n",
              "      <th>1408</th>\n",
              "      <th>1492: Conquest of Paradise</th>\n",
              "      <th>15 Minutes</th>\n",
              "      <th>16 Blocks</th>\n",
              "      <th>17 Again</th>\n",
              "      <th>...</th>\n",
              "      <th>Yves Saint Laurent</th>\n",
              "      <th>Z</th>\n",
              "      <th>Zabriskie Point</th>\n",
              "      <th>Zach Galifianakis: Live at the Purple Onion</th>\n",
              "      <th>Zack and Miri Make a Porno</th>\n",
              "      <th>Zandalee</th>\n",
              "      <th>Zapped!</th>\n",
              "      <th>Zardoz</th>\n",
              "      <th>Zathura</th>\n",
              "      <th>Zatoichi and the Chest of Gold</th>\n",
              "      <th>Zebraman</th>\n",
              "      <th>Zeitgeist: Addendum</th>\n",
              "      <th>Zeitgeist: Moving Forward</th>\n",
              "      <th>Zeitgeist: The Movie</th>\n",
              "      <th>Zelary</th>\n",
              "      <th>Zelig</th>\n",
              "      <th>Zero Dark Thirty</th>\n",
              "      <th>Zero Day</th>\n",
              "      <th>Zero Effect</th>\n",
              "      <th>Zodiac</th>\n",
              "      <th>Zombie Strippers!</th>\n",
              "      <th>Zombieland</th>\n",
              "      <th>Zone 39</th>\n",
              "      <th>Zookeeper</th>\n",
              "      <th>Zoolander</th>\n",
              "      <th>Zorba the Greek</th>\n",
              "      <th>Zorro, the Gay Blade</th>\n",
              "      <th>Zozo</th>\n",
              "      <th>Zu: Warriors from the Magic Mountain</th>\n",
              "      <th>Zulu</th>\n",
              "      <th>[REC]</th>\n",
              "      <th>[REC]²</th>\n",
              "      <th>[REC]³ 3 Génesis</th>\n",
              "      <th>a/k/a Tommy Chong</th>\n",
              "      <th>eXistenZ</th>\n",
              "      <th>loudQUIETloud: A Film About the Pixies</th>\n",
              "      <th>xXx</th>\n",
              "      <th>xXx: State of the Union</th>\n",
              "      <th>¡Three Amigos!</th>\n",
              "      <th>À nous la liberté</th>\n",
              "    </tr>\n",
              "    <tr>\n",
              "      <th>userId</th>\n",
              "      <th></th>\n",
              "      <th></th>\n",
              "      <th></th>\n",
              "      <th></th>\n",
              "      <th></th>\n",
              "      <th></th>\n",
              "      <th></th>\n",
              "      <th></th>\n",
              "      <th></th>\n",
              "      <th></th>\n",
              "      <th></th>\n",
              "      <th></th>\n",
              "      <th></th>\n",
              "      <th></th>\n",
              "      <th></th>\n",
              "      <th></th>\n",
              "      <th></th>\n",
              "      <th></th>\n",
              "      <th></th>\n",
              "      <th></th>\n",
              "      <th></th>\n",
              "      <th></th>\n",
              "      <th></th>\n",
              "      <th></th>\n",
              "      <th></th>\n",
              "      <th></th>\n",
              "      <th></th>\n",
              "      <th></th>\n",
              "      <th></th>\n",
              "      <th></th>\n",
              "      <th></th>\n",
              "      <th></th>\n",
              "      <th></th>\n",
              "      <th></th>\n",
              "      <th></th>\n",
              "      <th></th>\n",
              "      <th></th>\n",
              "      <th></th>\n",
              "      <th></th>\n",
              "      <th></th>\n",
              "      <th></th>\n",
              "      <th></th>\n",
              "      <th></th>\n",
              "      <th></th>\n",
              "      <th></th>\n",
              "      <th></th>\n",
              "      <th></th>\n",
              "      <th></th>\n",
              "      <th></th>\n",
              "      <th></th>\n",
              "      <th></th>\n",
              "      <th></th>\n",
              "      <th></th>\n",
              "      <th></th>\n",
              "      <th></th>\n",
              "      <th></th>\n",
              "      <th></th>\n",
              "      <th></th>\n",
              "      <th></th>\n",
              "      <th></th>\n",
              "      <th></th>\n",
              "      <th></th>\n",
              "      <th></th>\n",
              "      <th></th>\n",
              "      <th></th>\n",
              "      <th></th>\n",
              "      <th></th>\n",
              "      <th></th>\n",
              "      <th></th>\n",
              "      <th></th>\n",
              "      <th></th>\n",
              "      <th></th>\n",
              "      <th></th>\n",
              "      <th></th>\n",
              "      <th></th>\n",
              "      <th></th>\n",
              "      <th></th>\n",
              "      <th></th>\n",
              "      <th></th>\n",
              "      <th></th>\n",
              "      <th></th>\n",
              "    </tr>\n",
              "  </thead>\n",
              "  <tbody>\n",
              "    <tr>\n",
              "      <th>1</th>\n",
              "      <td>0.0</td>\n",
              "      <td>0.0</td>\n",
              "      <td>0.0</td>\n",
              "      <td>0.0</td>\n",
              "      <td>0.0</td>\n",
              "      <td>0.0</td>\n",
              "      <td>0.0</td>\n",
              "      <td>0.0</td>\n",
              "      <td>0.0</td>\n",
              "      <td>0.0</td>\n",
              "      <td>0.0</td>\n",
              "      <td>0.0</td>\n",
              "      <td>0.0</td>\n",
              "      <td>0.0</td>\n",
              "      <td>0.0</td>\n",
              "      <td>0.0</td>\n",
              "      <td>0.0</td>\n",
              "      <td>0.0</td>\n",
              "      <td>0.0</td>\n",
              "      <td>0.0</td>\n",
              "      <td>0.0</td>\n",
              "      <td>0.0</td>\n",
              "      <td>0.0</td>\n",
              "      <td>0.0</td>\n",
              "      <td>0.0</td>\n",
              "      <td>0.0</td>\n",
              "      <td>0.0</td>\n",
              "      <td>0.0</td>\n",
              "      <td>0.0</td>\n",
              "      <td>0.0</td>\n",
              "      <td>0.0</td>\n",
              "      <td>0.0</td>\n",
              "      <td>0.0</td>\n",
              "      <td>0.0</td>\n",
              "      <td>0.0</td>\n",
              "      <td>0.0</td>\n",
              "      <td>0.0</td>\n",
              "      <td>0.0</td>\n",
              "      <td>0.0</td>\n",
              "      <td>0.0</td>\n",
              "      <td>...</td>\n",
              "      <td>0.0</td>\n",
              "      <td>0.0</td>\n",
              "      <td>0.0</td>\n",
              "      <td>0.0</td>\n",
              "      <td>0.0</td>\n",
              "      <td>0.0</td>\n",
              "      <td>0.0</td>\n",
              "      <td>0.0</td>\n",
              "      <td>0.0</td>\n",
              "      <td>0.0</td>\n",
              "      <td>0.0</td>\n",
              "      <td>0.0</td>\n",
              "      <td>0.0</td>\n",
              "      <td>0.0</td>\n",
              "      <td>0.0</td>\n",
              "      <td>0.0</td>\n",
              "      <td>0.0</td>\n",
              "      <td>0.0</td>\n",
              "      <td>0.0</td>\n",
              "      <td>0.0</td>\n",
              "      <td>0.0</td>\n",
              "      <td>0.0</td>\n",
              "      <td>0.0</td>\n",
              "      <td>0.0</td>\n",
              "      <td>0.0</td>\n",
              "      <td>0.0</td>\n",
              "      <td>0.0</td>\n",
              "      <td>0.0</td>\n",
              "      <td>0.0</td>\n",
              "      <td>0.0</td>\n",
              "      <td>0.0</td>\n",
              "      <td>0.0</td>\n",
              "      <td>0.0</td>\n",
              "      <td>0.0</td>\n",
              "      <td>0.0</td>\n",
              "      <td>0.0</td>\n",
              "      <td>0.0</td>\n",
              "      <td>0.0</td>\n",
              "      <td>0.0</td>\n",
              "      <td>0.0</td>\n",
              "    </tr>\n",
              "    <tr>\n",
              "      <th>2</th>\n",
              "      <td>0.0</td>\n",
              "      <td>0.0</td>\n",
              "      <td>0.0</td>\n",
              "      <td>0.0</td>\n",
              "      <td>0.0</td>\n",
              "      <td>0.0</td>\n",
              "      <td>0.0</td>\n",
              "      <td>0.0</td>\n",
              "      <td>0.0</td>\n",
              "      <td>0.0</td>\n",
              "      <td>0.0</td>\n",
              "      <td>0.0</td>\n",
              "      <td>0.0</td>\n",
              "      <td>0.0</td>\n",
              "      <td>0.0</td>\n",
              "      <td>0.0</td>\n",
              "      <td>0.0</td>\n",
              "      <td>0.0</td>\n",
              "      <td>0.0</td>\n",
              "      <td>0.0</td>\n",
              "      <td>0.0</td>\n",
              "      <td>0.0</td>\n",
              "      <td>0.0</td>\n",
              "      <td>0.0</td>\n",
              "      <td>0.0</td>\n",
              "      <td>0.0</td>\n",
              "      <td>0.0</td>\n",
              "      <td>0.0</td>\n",
              "      <td>0.0</td>\n",
              "      <td>0.0</td>\n",
              "      <td>0.0</td>\n",
              "      <td>0.0</td>\n",
              "      <td>0.0</td>\n",
              "      <td>0.0</td>\n",
              "      <td>0.0</td>\n",
              "      <td>0.0</td>\n",
              "      <td>0.0</td>\n",
              "      <td>0.0</td>\n",
              "      <td>0.0</td>\n",
              "      <td>0.0</td>\n",
              "      <td>...</td>\n",
              "      <td>0.0</td>\n",
              "      <td>0.0</td>\n",
              "      <td>0.0</td>\n",
              "      <td>0.0</td>\n",
              "      <td>0.0</td>\n",
              "      <td>0.0</td>\n",
              "      <td>0.0</td>\n",
              "      <td>0.0</td>\n",
              "      <td>0.0</td>\n",
              "      <td>0.0</td>\n",
              "      <td>0.0</td>\n",
              "      <td>0.0</td>\n",
              "      <td>0.0</td>\n",
              "      <td>0.0</td>\n",
              "      <td>0.0</td>\n",
              "      <td>0.0</td>\n",
              "      <td>0.0</td>\n",
              "      <td>0.0</td>\n",
              "      <td>0.0</td>\n",
              "      <td>0.0</td>\n",
              "      <td>0.0</td>\n",
              "      <td>0.0</td>\n",
              "      <td>0.0</td>\n",
              "      <td>0.0</td>\n",
              "      <td>0.0</td>\n",
              "      <td>0.0</td>\n",
              "      <td>0.0</td>\n",
              "      <td>0.0</td>\n",
              "      <td>0.0</td>\n",
              "      <td>0.0</td>\n",
              "      <td>0.0</td>\n",
              "      <td>0.0</td>\n",
              "      <td>0.0</td>\n",
              "      <td>0.0</td>\n",
              "      <td>0.0</td>\n",
              "      <td>0.0</td>\n",
              "      <td>0.0</td>\n",
              "      <td>0.0</td>\n",
              "      <td>0.0</td>\n",
              "      <td>0.0</td>\n",
              "    </tr>\n",
              "    <tr>\n",
              "      <th>3</th>\n",
              "      <td>0.0</td>\n",
              "      <td>0.0</td>\n",
              "      <td>0.0</td>\n",
              "      <td>0.0</td>\n",
              "      <td>0.0</td>\n",
              "      <td>0.0</td>\n",
              "      <td>0.0</td>\n",
              "      <td>0.0</td>\n",
              "      <td>0.0</td>\n",
              "      <td>0.0</td>\n",
              "      <td>0.0</td>\n",
              "      <td>0.0</td>\n",
              "      <td>0.0</td>\n",
              "      <td>0.0</td>\n",
              "      <td>0.0</td>\n",
              "      <td>0.0</td>\n",
              "      <td>0.0</td>\n",
              "      <td>0.0</td>\n",
              "      <td>0.0</td>\n",
              "      <td>0.0</td>\n",
              "      <td>0.0</td>\n",
              "      <td>0.0</td>\n",
              "      <td>0.0</td>\n",
              "      <td>0.0</td>\n",
              "      <td>0.0</td>\n",
              "      <td>0.0</td>\n",
              "      <td>0.0</td>\n",
              "      <td>0.0</td>\n",
              "      <td>0.0</td>\n",
              "      <td>0.0</td>\n",
              "      <td>0.0</td>\n",
              "      <td>0.0</td>\n",
              "      <td>0.0</td>\n",
              "      <td>0.0</td>\n",
              "      <td>0.0</td>\n",
              "      <td>0.0</td>\n",
              "      <td>0.0</td>\n",
              "      <td>0.0</td>\n",
              "      <td>0.0</td>\n",
              "      <td>0.0</td>\n",
              "      <td>...</td>\n",
              "      <td>0.0</td>\n",
              "      <td>0.0</td>\n",
              "      <td>0.0</td>\n",
              "      <td>0.0</td>\n",
              "      <td>0.0</td>\n",
              "      <td>0.0</td>\n",
              "      <td>0.0</td>\n",
              "      <td>0.0</td>\n",
              "      <td>0.0</td>\n",
              "      <td>0.0</td>\n",
              "      <td>0.0</td>\n",
              "      <td>0.0</td>\n",
              "      <td>0.0</td>\n",
              "      <td>0.0</td>\n",
              "      <td>0.0</td>\n",
              "      <td>0.0</td>\n",
              "      <td>0.0</td>\n",
              "      <td>0.0</td>\n",
              "      <td>0.0</td>\n",
              "      <td>0.0</td>\n",
              "      <td>0.0</td>\n",
              "      <td>0.0</td>\n",
              "      <td>0.0</td>\n",
              "      <td>0.0</td>\n",
              "      <td>0.0</td>\n",
              "      <td>0.0</td>\n",
              "      <td>0.0</td>\n",
              "      <td>0.0</td>\n",
              "      <td>0.0</td>\n",
              "      <td>0.0</td>\n",
              "      <td>0.0</td>\n",
              "      <td>0.0</td>\n",
              "      <td>0.0</td>\n",
              "      <td>0.0</td>\n",
              "      <td>0.0</td>\n",
              "      <td>0.0</td>\n",
              "      <td>0.0</td>\n",
              "      <td>0.0</td>\n",
              "      <td>0.0</td>\n",
              "      <td>0.0</td>\n",
              "    </tr>\n",
              "    <tr>\n",
              "      <th>4</th>\n",
              "      <td>0.0</td>\n",
              "      <td>0.0</td>\n",
              "      <td>0.0</td>\n",
              "      <td>0.0</td>\n",
              "      <td>0.0</td>\n",
              "      <td>0.0</td>\n",
              "      <td>0.0</td>\n",
              "      <td>0.0</td>\n",
              "      <td>0.0</td>\n",
              "      <td>0.0</td>\n",
              "      <td>0.0</td>\n",
              "      <td>0.0</td>\n",
              "      <td>0.0</td>\n",
              "      <td>0.0</td>\n",
              "      <td>0.0</td>\n",
              "      <td>0.0</td>\n",
              "      <td>0.0</td>\n",
              "      <td>0.0</td>\n",
              "      <td>0.0</td>\n",
              "      <td>0.0</td>\n",
              "      <td>0.0</td>\n",
              "      <td>0.0</td>\n",
              "      <td>0.0</td>\n",
              "      <td>0.0</td>\n",
              "      <td>5.0</td>\n",
              "      <td>0.0</td>\n",
              "      <td>0.0</td>\n",
              "      <td>0.0</td>\n",
              "      <td>0.0</td>\n",
              "      <td>0.0</td>\n",
              "      <td>0.0</td>\n",
              "      <td>0.0</td>\n",
              "      <td>0.0</td>\n",
              "      <td>0.0</td>\n",
              "      <td>0.0</td>\n",
              "      <td>0.0</td>\n",
              "      <td>0.0</td>\n",
              "      <td>0.0</td>\n",
              "      <td>0.0</td>\n",
              "      <td>0.0</td>\n",
              "      <td>...</td>\n",
              "      <td>0.0</td>\n",
              "      <td>0.0</td>\n",
              "      <td>0.0</td>\n",
              "      <td>0.0</td>\n",
              "      <td>0.0</td>\n",
              "      <td>0.0</td>\n",
              "      <td>0.0</td>\n",
              "      <td>0.0</td>\n",
              "      <td>0.0</td>\n",
              "      <td>0.0</td>\n",
              "      <td>0.0</td>\n",
              "      <td>0.0</td>\n",
              "      <td>0.0</td>\n",
              "      <td>0.0</td>\n",
              "      <td>0.0</td>\n",
              "      <td>0.0</td>\n",
              "      <td>0.0</td>\n",
              "      <td>0.0</td>\n",
              "      <td>0.0</td>\n",
              "      <td>0.0</td>\n",
              "      <td>0.0</td>\n",
              "      <td>0.0</td>\n",
              "      <td>0.0</td>\n",
              "      <td>0.0</td>\n",
              "      <td>0.0</td>\n",
              "      <td>0.0</td>\n",
              "      <td>0.0</td>\n",
              "      <td>0.0</td>\n",
              "      <td>0.0</td>\n",
              "      <td>0.0</td>\n",
              "      <td>0.0</td>\n",
              "      <td>0.0</td>\n",
              "      <td>0.0</td>\n",
              "      <td>0.0</td>\n",
              "      <td>0.0</td>\n",
              "      <td>0.0</td>\n",
              "      <td>0.0</td>\n",
              "      <td>0.0</td>\n",
              "      <td>0.0</td>\n",
              "      <td>0.0</td>\n",
              "    </tr>\n",
              "    <tr>\n",
              "      <th>5</th>\n",
              "      <td>0.0</td>\n",
              "      <td>0.0</td>\n",
              "      <td>0.0</td>\n",
              "      <td>0.0</td>\n",
              "      <td>0.0</td>\n",
              "      <td>0.0</td>\n",
              "      <td>0.0</td>\n",
              "      <td>0.0</td>\n",
              "      <td>0.0</td>\n",
              "      <td>0.0</td>\n",
              "      <td>0.0</td>\n",
              "      <td>0.0</td>\n",
              "      <td>0.0</td>\n",
              "      <td>0.0</td>\n",
              "      <td>0.0</td>\n",
              "      <td>0.0</td>\n",
              "      <td>0.0</td>\n",
              "      <td>0.0</td>\n",
              "      <td>0.0</td>\n",
              "      <td>0.0</td>\n",
              "      <td>0.0</td>\n",
              "      <td>0.0</td>\n",
              "      <td>0.0</td>\n",
              "      <td>0.0</td>\n",
              "      <td>0.0</td>\n",
              "      <td>0.0</td>\n",
              "      <td>0.0</td>\n",
              "      <td>0.0</td>\n",
              "      <td>0.0</td>\n",
              "      <td>0.0</td>\n",
              "      <td>0.0</td>\n",
              "      <td>0.0</td>\n",
              "      <td>0.0</td>\n",
              "      <td>0.0</td>\n",
              "      <td>0.0</td>\n",
              "      <td>0.0</td>\n",
              "      <td>0.0</td>\n",
              "      <td>0.0</td>\n",
              "      <td>0.0</td>\n",
              "      <td>0.0</td>\n",
              "      <td>...</td>\n",
              "      <td>0.0</td>\n",
              "      <td>0.0</td>\n",
              "      <td>0.0</td>\n",
              "      <td>0.0</td>\n",
              "      <td>0.0</td>\n",
              "      <td>0.0</td>\n",
              "      <td>0.0</td>\n",
              "      <td>0.0</td>\n",
              "      <td>0.0</td>\n",
              "      <td>0.0</td>\n",
              "      <td>0.0</td>\n",
              "      <td>0.0</td>\n",
              "      <td>0.0</td>\n",
              "      <td>0.0</td>\n",
              "      <td>0.0</td>\n",
              "      <td>0.0</td>\n",
              "      <td>0.0</td>\n",
              "      <td>0.0</td>\n",
              "      <td>0.0</td>\n",
              "      <td>0.0</td>\n",
              "      <td>0.0</td>\n",
              "      <td>0.0</td>\n",
              "      <td>0.0</td>\n",
              "      <td>0.0</td>\n",
              "      <td>0.0</td>\n",
              "      <td>0.0</td>\n",
              "      <td>0.0</td>\n",
              "      <td>0.0</td>\n",
              "      <td>0.0</td>\n",
              "      <td>0.0</td>\n",
              "      <td>0.0</td>\n",
              "      <td>0.0</td>\n",
              "      <td>0.0</td>\n",
              "      <td>0.0</td>\n",
              "      <td>0.0</td>\n",
              "      <td>0.0</td>\n",
              "      <td>0.0</td>\n",
              "      <td>0.0</td>\n",
              "      <td>0.0</td>\n",
              "      <td>0.0</td>\n",
              "    </tr>\n",
              "  </tbody>\n",
              "</table>\n",
              "<p>5 rows × 9944 columns</p>\n",
              "</div>"
            ],
            "text/plain": [
              "title        '71   ...  ¡Three Amigos!   À nous la liberté \n",
              "userId             ...                                     \n",
              "1       0.0   0.0  ...              0.0                 0.0\n",
              "2       0.0   0.0  ...              0.0                 0.0\n",
              "3       0.0   0.0  ...              0.0                 0.0\n",
              "4       0.0   0.0  ...              0.0                 0.0\n",
              "5       0.0   0.0  ...              0.0                 0.0\n",
              "\n",
              "[5 rows x 9944 columns]"
            ]
          },
          "metadata": {
            "tags": []
          },
          "execution_count": 18
        }
      ]
    },
    {
      "cell_type": "code",
      "metadata": {
        "id": "CY5-2z1y-7WP",
        "outputId": "15ca3df6-ae35-4a73-d8ca-282e4047c97b",
        "colab": {
          "base_uri": "https://localhost:8080/",
          "height": 34
        }
      },
      "source": [
        "movies_piv2.shape"
      ],
      "execution_count": null,
      "outputs": [
        {
          "output_type": "execute_result",
          "data": {
            "text/plain": [
              "(668, 9944)"
            ]
          },
          "metadata": {
            "tags": []
          },
          "execution_count": 19
        }
      ]
    },
    {
      "cell_type": "code",
      "metadata": {
        "id": "p18mFEcl-_6H",
        "outputId": "708f31b2-df22-4e98-a4e2-168ca9a6b139",
        "colab": {
          "base_uri": "https://localhost:8080/",
          "height": 34
        }
      },
      "source": [
        "X = movies_piv2.values.T\n",
        "X.shape"
      ],
      "execution_count": null,
      "outputs": [
        {
          "output_type": "execute_result",
          "data": {
            "text/plain": [
              "(9944, 668)"
            ]
          },
          "metadata": {
            "tags": []
          },
          "execution_count": 20
        }
      ]
    },
    {
      "cell_type": "code",
      "metadata": {
        "id": "hlXL1auU_GYt",
        "outputId": "51981325-bc1f-4a16-ef80-13c6c183de2a",
        "colab": {
          "base_uri": "https://localhost:8080/",
          "height": 243
        }
      },
      "source": [
        "import sklearn\n",
        "\n",
        "from sklearn.decomposition import TruncatedSVD\n",
        "\n",
        "SVD = TruncatedSVD(n_components = 12, random_state=17)\n",
        "matrix = SVD.fit_transform(X)\n",
        "matrix.shape\n",
        "print(matrix)"
      ],
      "execution_count": null,
      "outputs": [
        {
          "output_type": "stream",
          "text": [
            "[[ 8.02671069e+00  8.97229690e+00  1.11744744e+00 ...  2.85877365e+00\n",
            "   2.32267985e+00  1.82367066e+00]\n",
            " [ 6.53206200e-01  5.61282615e-02 -8.83080281e-01 ...  2.75547609e-01\n",
            "  -8.07530480e-01  1.08805092e+00]\n",
            " [ 9.25074802e-03 -1.12818423e-03  1.46581910e-03 ...  8.41829718e-03\n",
            "   1.25139592e-02  5.01207289e-03]\n",
            " ...\n",
            " [ 1.45241182e+00  2.08828333e+00  2.04786636e-01 ...  7.48205206e-01\n",
            "  -5.89338435e-01 -3.60110746e-01]\n",
            " [ 8.31390486e+00 -1.33066851e+00 -1.25432888e+00 ...  4.84146558e-01\n",
            "  -6.37383220e-02  4.11180950e-01]\n",
            " [ 6.62371994e-01  6.45399111e-01 -2.04415895e+00 ... -4.58333513e-01\n",
            "  -1.66202161e-01 -1.02673781e-01]]\n"
          ],
          "name": "stdout"
        }
      ]
    },
    {
      "cell_type": "code",
      "metadata": {
        "id": "ZbZMjB8Z_sxO",
        "outputId": "84608306-8159-40e0-be24-5c7b3bb5dd99",
        "colab": {
          "base_uri": "https://localhost:8080/",
          "height": 243
        }
      },
      "source": [
        "import warnings\n",
        "warnings.filterwarnings(\"ignore\", category = RuntimeWarning)\n",
        "corr = np.corrcoef(matrix)\n",
        "corr.shape\n",
        "print(corr)"
      ],
      "execution_count": null,
      "outputs": [
        {
          "output_type": "stream",
          "text": [
            "[[ 1.          0.42671069 -0.05226282 ...  0.68329819  0.24766994\n",
            "   0.01583432]\n",
            " [ 0.42671069  1.          0.070199   ...  0.2165272   0.39296102\n",
            "   0.05040337]\n",
            " [-0.05226282  0.070199    1.         ...  0.27791677  0.48664544\n",
            "  -0.16546827]\n",
            " ...\n",
            " [ 0.68329819  0.2165272   0.27791677 ...  1.          0.1550645\n",
            "  -0.02875013]\n",
            " [ 0.24766994  0.39296102  0.48664544 ...  0.1550645   1.\n",
            "   0.09636135]\n",
            " [ 0.01583432  0.05040337 -0.16546827 ... -0.02875013  0.09636135\n",
            "   1.        ]]\n"
          ],
          "name": "stdout"
        }
      ]
    },
    {
      "cell_type": "code",
      "metadata": {
        "id": "NC9AW0HP_4ae",
        "outputId": "f34e9448-8e3c-4430-ed04-4fa60964135a",
        "colab": {
          "base_uri": "https://localhost:8080/",
          "height": 34
        }
      },
      "source": [
        "movies_title = movies_piv2.columns\n",
        "movies_list = list(movies_title)\n",
        "movies_list[1]"
      ],
      "execution_count": null,
      "outputs": [
        {
          "output_type": "execute_result",
          "data": {
            "text/plain": [
              "\"'71 \""
            ]
          },
          "metadata": {
            "tags": []
          },
          "execution_count": 23
        }
      ]
    },
    {
      "cell_type": "code",
      "metadata": {
        "id": "_k4wHwefATEK",
        "outputId": "3fe7a8c1-03e3-4bad-b40d-a88656ebc418",
        "colab": {
          "base_uri": "https://localhost:8080/",
          "height": 416
        }
      },
      "source": [
        "recommendation = input('Enter a movie title for recommendations: ')\n",
        "movie_to_use = movies_list.index(recommendation + ' ')\n",
        "\n",
        "ts = corr[movie_to_use]\n",
        "\n",
        "top_movies = np.array(movies_title[(ts < 1.0) & (ts>0.90)])\n",
        "\n",
        "print(*top_movies, sep = '\\n')\n",
        "\n",
        "avgcossimilarity = avg_cosine_similarity(np.insert(top_movies, 0, movies_piv_binary.index[movie_to_use]), movies_piv_binary)\n",
        "print(avgcossimilarity)"
      ],
      "execution_count": null,
      "outputs": [
        {
          "output_type": "stream",
          "text": [
            "Enter a movie title for recommendations: Thor\n",
            "Avengers, The \n",
            "Captain America: The First Avenger \n",
            "Chappie \n",
            "Dark Knight Rises, The \n",
            "Despicable Me \n",
            "Dredd \n",
            "Hellboy II: The Golden Army \n",
            "Iron Man 2 \n",
            "Iron Man 3 \n",
            "Machete \n",
            "Maze Runner, The \n",
            "Megamind \n",
            "National Treasure \n",
            "Neighbors \n",
            "Pirates of the Caribbean: At World's End \n",
            "Scott Pilgrim vs. the World \n",
            "Sherlock Holmes \n",
            "Song of the Sea \n",
            "Way of the Dragon, The \n",
            "Who Am I? \n",
            "Wreck-It Ralph \n",
            "Zombieland \n"
          ],
          "name": "stdout"
        }
      ]
    },
    {
      "cell_type": "code",
      "metadata": {
        "id": "tOYZxKMmIIF0"
      },
      "source": [
        "#if we wanted to get the top x movies:\n",
        "#query_title is the index of the movie, not the title\n",
        "def print_recommendationsSVD(query_title, movie_matrix, num_recommendations, prnt=1):\n",
        "  ts = corr[query_title]\n",
        "  indices = np.expand_dims(range(len(ts)), axis=0)\n",
        "  sorted_ts = np.concatenate([indices, np.expand_dims(ts, axis=0)])\n",
        "  sorted_ts = sorted_ts[:, sorted_ts[1].argsort()]\n",
        "  topx = sorted_ts[0, -(num_recommendations + 1):] #take top x + 1, top movie is queried movie\n",
        "  top_movies = []\n",
        "  for i in topx.flatten():\n",
        "    top_movies.append(movies_title[i])\n",
        "  top_movies = top_movies[::-1]\n",
        "\n",
        "  similarity = avg_cosine_similarity(top_movies, movie_matrix)\n",
        "\n",
        "  if prnt == 1:\n",
        "    print(*top_movies[1:], sep = '\\n')\n",
        "    print('\\nAverage cosine similarity: {0}'.format(similarity))\n",
        "\n",
        "  return similarity"
      ],
      "execution_count": null,
      "outputs": []
    },
    {
      "cell_type": "markdown",
      "metadata": {
        "id": "yn0qWlwD8iF-"
      },
      "source": [
        "Run cell below for SVD recommendations"
      ]
    },
    {
      "cell_type": "code",
      "metadata": {
        "id": "RqAAGmIeT0qm",
        "outputId": "f9e1472d-8417-428a-e535-adec34351a05",
        "colab": {
          "base_uri": "https://localhost:8080/",
          "height": 243
        }
      },
      "source": [
        "recommendation = input('Enter a movie title for recommendations: ')\n",
        "movie_to_use = movies_list.index(recommendation + ' ')\n",
        "avgcossimilarity = print_recommendationsSVD(movie_to_use, movies_piv_binary, num_recommendations=10)"
      ],
      "execution_count": null,
      "outputs": [
        {
          "output_type": "stream",
          "text": [
            "Enter a movie title for recommendations: Thor\n",
            "Iron Man 3 \n",
            "Megamind \n",
            "Scott Pilgrim vs. the World \n",
            "Iron Man 2 \n",
            "Who Am I? \n",
            "Despicable Me \n",
            "Chappie \n",
            "Wreck-It Ralph \n",
            "Avengers, The \n",
            "Dredd \n",
            "\n",
            "Average cosine similarity: 0.447648765468142\n"
          ],
          "name": "stdout"
        }
      ]
    },
    {
      "cell_type": "markdown",
      "metadata": {
        "id": "9UueT2uZ8mNA"
      },
      "source": [
        "Run cell below to test both algorithms with a random sample of titles. Adjust the sample_size variable to adjust the amount of movies run through each algorithm."
      ]
    },
    {
      "cell_type": "code",
      "metadata": {
        "id": "a04ds9MCUZOY",
        "outputId": "47577cae-399b-46ef-ecb1-7ebba5538596",
        "colab": {
          "base_uri": "https://localhost:8080/",
          "height": 52
        }
      },
      "source": [
        "sample_size = 100\n",
        "titles = np.random.choice(movies_title, sample_size)\n",
        "#print(titles)\n",
        "similaritySVD = []\n",
        "similarityKNN = []\n",
        "for i in titles:\n",
        "  similaritySVD.append(print_recommendationsSVD(movies_list.index(i), movies_piv_binary, num_recommendations=10, prnt=0))\n",
        "  similarityKNN.append(print_recommendations(i, movies_piv_binary, model, k=10, prnt=0))\n",
        "print('Mean average cosine similarity for KNN: {0}'.format(np.mean(similarityKNN)))\n",
        "print('Mean average cosine similarity for SVD: {0}'.format(np.mean(similaritySVD)))"
      ],
      "execution_count": null,
      "outputs": [
        {
          "output_type": "stream",
          "text": [
            "Mean average cosine similarity for KNN: 0.7301887938091811\n",
            "Mean average cosine similarity for SVD: 0.6222718971633783\n"
          ],
          "name": "stdout"
        }
      ]
    },
    {
      "cell_type": "markdown",
      "metadata": {
        "id": "FHyulvaaFLsW"
      },
      "source": [
        "**VISUALIZATION**"
      ]
    },
    {
      "cell_type": "code",
      "metadata": {
        "id": "o-qvmXxCA8Vw",
        "outputId": "7d17578e-6fc7-453f-9107-19e21e964b85",
        "colab": {
          "base_uri": "https://localhost:8080/",
          "height": 290
        }
      },
      "source": [
        "objects = ('KNN', 'SVD')\n",
        "y_pos = np.arange(len(objects))\n",
        "\n",
        "performance = [np.mean(similarityKNN), np.mean(similaritySVD)]\n",
        "\n",
        "plt.bar(y_pos, performance, align='center', alpha=0.5)\n",
        "plt.xticks(y_pos, objects)\n",
        "plt.ylabel('Value')\n",
        "plt.title('Mean Average Cosine Similarity')\n",
        "\n",
        "plt.show()"
      ],
      "execution_count": null,
      "outputs": [
        {
          "output_type": "display_data",
          "data": {
            "image/png": "[encoded data removed]",
            "text/plain": [
              "<Figure size 432x288 with 1 Axes>"
            ]
          },
          "metadata": {
            "tags": [],
            "needs_background": "light"
          }
        }
      ]
    },
    {
      "cell_type": "code",
      "metadata": {
        "id": "R_HByWuhCn-U",
        "outputId": "a50acc2a-a1ae-426d-9e22-e34fc84fe319",
        "colab": {
          "base_uri": "https://localhost:8080/",
          "height": 270
        }
      },
      "source": [
        "xaxis = range(20)\n",
        "svdresults = []\n",
        "knnresults = []\n",
        "for j in xaxis:\n",
        "  sample_size = 50\n",
        "  titles = np.random.choice(movies_title, sample_size)\n",
        "  similaritySVD = []\n",
        "  similarityKNN = []\n",
        "  for i in titles:\n",
        "    similaritySVD.append(print_recommendationsSVD(movies_list.index(i), movies_piv_binary, num_recommendations=10, prnt=0))\n",
        "    similarityKNN.append(print_recommendations(i, movies_piv_binary, model, k=10, prnt=0))\n",
        "  svdresults.append(np.mean(similaritySVD))\n",
        "  knnresults.append(np.mean(similarityKNN))\n",
        "plt.scatter(xaxis, svdresults)\n",
        "plt.scatter(xaxis, knnresults)\n",
        "plt.show()"
      ],
      "execution_count": null,
      "outputs": [
        {
          "output_type": "display_data",
          "data": {
            "image/png": "[encoded data removed]",
            "text/plain": [
              "<Figure size 432x288 with 1 Axes>"
            ]
          },
          "metadata": {
            "tags": [],
            "needs_background": "light"
          }
        }
      ]
    },
    {
      "cell_type": "code",
      "metadata": {
        "id": "wtkxopc8HsHx",
        "outputId": "84ddae70-f00f-41fa-85b2-1dd06d4e84df",
        "colab": {
          "base_uri": "https://localhost:8080/",
          "height": 276
        }
      },
      "source": [
        "diff = []\n",
        "for i in range(len(knnresults)):\n",
        "  diff.append(knnresults[i] - svdresults[i])\n",
        "plt.scatter(xaxis, diff)\n",
        "plt.gca().set_ylim([0, .15])\n",
        "plt.show()"
      ],
      "execution_count": null,
      "outputs": [
        {
          "output_type": "display_data",
          "data": {
            "image/png": "[encoded data removed]",
            "text/plain": [
              "<Figure size 432x288 with 1 Axes>"
            ]
          },
          "metadata": {
            "tags": [],
            "needs_background": "light"
          }
        }
      ]
    }
  ]
}
